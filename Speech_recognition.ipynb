{
  "nbformat": 4,
  "nbformat_minor": 0,
  "metadata": {
    "colab": {
      "name": "Speech recognition.ipynb",
      "provenance": [],
      "collapsed_sections": []
    },
    "kernelspec": {
      "name": "python3",
      "display_name": "Python 3"
    },
    "language_info": {
      "name": "python"
    },
    "accelerator": "GPU",
    "widgets": {
      "application/vnd.jupyter.widget-state+json": {
        "c3dd5704b8014fa1a95d48276c365eda": {
          "model_module": "@jupyter-widgets/controls",
          "model_name": "HBoxModel",
          "state": {
            "_view_name": "HBoxView",
            "_dom_classes": [],
            "_model_name": "HBoxModel",
            "_view_module": "@jupyter-widgets/controls",
            "_model_module_version": "1.5.0",
            "_view_count": null,
            "_view_module_version": "1.5.0",
            "box_style": "",
            "layout": "IPY_MODEL_ceb3f0a2aae04f48b174b6b87b50781f",
            "_model_module": "@jupyter-widgets/controls",
            "children": [
              "IPY_MODEL_ec14cf325b394b7a9c92dadd59406adf",
              "IPY_MODEL_39ebf6444c564b9eb70f3c6f63ccf702"
            ]
          }
        },
        "ceb3f0a2aae04f48b174b6b87b50781f": {
          "model_module": "@jupyter-widgets/base",
          "model_name": "LayoutModel",
          "state": {
            "_view_name": "LayoutView",
            "grid_template_rows": null,
            "right": null,
            "justify_content": null,
            "_view_module": "@jupyter-widgets/base",
            "overflow": null,
            "_model_module_version": "1.2.0",
            "_view_count": null,
            "flex_flow": null,
            "width": null,
            "min_width": null,
            "border": null,
            "align_items": null,
            "bottom": null,
            "_model_module": "@jupyter-widgets/base",
            "top": null,
            "grid_column": null,
            "overflow_y": null,
            "overflow_x": null,
            "grid_auto_flow": null,
            "grid_area": null,
            "grid_template_columns": null,
            "flex": null,
            "_model_name": "LayoutModel",
            "justify_items": null,
            "grid_row": null,
            "max_height": null,
            "align_content": null,
            "visibility": null,
            "align_self": null,
            "height": null,
            "min_height": null,
            "padding": null,
            "grid_auto_rows": null,
            "grid_gap": null,
            "max_width": null,
            "order": null,
            "_view_module_version": "1.2.0",
            "grid_template_areas": null,
            "object_position": null,
            "object_fit": null,
            "grid_auto_columns": null,
            "margin": null,
            "display": null,
            "left": null
          }
        },
        "ec14cf325b394b7a9c92dadd59406adf": {
          "model_module": "@jupyter-widgets/controls",
          "model_name": "FloatProgressModel",
          "state": {
            "_view_name": "ProgressView",
            "style": "IPY_MODEL_a610dae48a8540e4ba8d3bababbcc62e",
            "_dom_classes": [],
            "description": "100%",
            "_model_name": "FloatProgressModel",
            "bar_style": "success",
            "max": 1500,
            "_view_module": "@jupyter-widgets/controls",
            "_model_module_version": "1.5.0",
            "value": 1500,
            "_view_count": null,
            "_view_module_version": "1.5.0",
            "orientation": "horizontal",
            "min": 0,
            "description_tooltip": null,
            "_model_module": "@jupyter-widgets/controls",
            "layout": "IPY_MODEL_9c89b2de2ac3401c921de6f40e6b568b"
          }
        },
        "39ebf6444c564b9eb70f3c6f63ccf702": {
          "model_module": "@jupyter-widgets/controls",
          "model_name": "HTMLModel",
          "state": {
            "_view_name": "HTMLView",
            "style": "IPY_MODEL_6dc0e13357004932bd9bc2d9e8b176af",
            "_dom_classes": [],
            "description": "",
            "_model_name": "HTMLModel",
            "placeholder": "​",
            "_view_module": "@jupyter-widgets/controls",
            "_model_module_version": "1.5.0",
            "value": " 1500/1500 [00:16&lt;00:00, 89.04ex/s]",
            "_view_count": null,
            "_view_module_version": "1.5.0",
            "description_tooltip": null,
            "_model_module": "@jupyter-widgets/controls",
            "layout": "IPY_MODEL_913dcd2d2d9844b6a41aceff440b5bce"
          }
        },
        "a610dae48a8540e4ba8d3bababbcc62e": {
          "model_module": "@jupyter-widgets/controls",
          "model_name": "ProgressStyleModel",
          "state": {
            "_view_name": "StyleView",
            "_model_name": "ProgressStyleModel",
            "description_width": "initial",
            "_view_module": "@jupyter-widgets/base",
            "_model_module_version": "1.5.0",
            "_view_count": null,
            "_view_module_version": "1.2.0",
            "bar_color": null,
            "_model_module": "@jupyter-widgets/controls"
          }
        },
        "9c89b2de2ac3401c921de6f40e6b568b": {
          "model_module": "@jupyter-widgets/base",
          "model_name": "LayoutModel",
          "state": {
            "_view_name": "LayoutView",
            "grid_template_rows": null,
            "right": null,
            "justify_content": null,
            "_view_module": "@jupyter-widgets/base",
            "overflow": null,
            "_model_module_version": "1.2.0",
            "_view_count": null,
            "flex_flow": null,
            "width": null,
            "min_width": null,
            "border": null,
            "align_items": null,
            "bottom": null,
            "_model_module": "@jupyter-widgets/base",
            "top": null,
            "grid_column": null,
            "overflow_y": null,
            "overflow_x": null,
            "grid_auto_flow": null,
            "grid_area": null,
            "grid_template_columns": null,
            "flex": null,
            "_model_name": "LayoutModel",
            "justify_items": null,
            "grid_row": null,
            "max_height": null,
            "align_content": null,
            "visibility": null,
            "align_self": null,
            "height": null,
            "min_height": null,
            "padding": null,
            "grid_auto_rows": null,
            "grid_gap": null,
            "max_width": null,
            "order": null,
            "_view_module_version": "1.2.0",
            "grid_template_areas": null,
            "object_position": null,
            "object_fit": null,
            "grid_auto_columns": null,
            "margin": null,
            "display": null,
            "left": null
          }
        },
        "6dc0e13357004932bd9bc2d9e8b176af": {
          "model_module": "@jupyter-widgets/controls",
          "model_name": "DescriptionStyleModel",
          "state": {
            "_view_name": "StyleView",
            "_model_name": "DescriptionStyleModel",
            "description_width": "",
            "_view_module": "@jupyter-widgets/base",
            "_model_module_version": "1.5.0",
            "_view_count": null,
            "_view_module_version": "1.2.0",
            "_model_module": "@jupyter-widgets/controls"
          }
        },
        "913dcd2d2d9844b6a41aceff440b5bce": {
          "model_module": "@jupyter-widgets/base",
          "model_name": "LayoutModel",
          "state": {
            "_view_name": "LayoutView",
            "grid_template_rows": null,
            "right": null,
            "justify_content": null,
            "_view_module": "@jupyter-widgets/base",
            "overflow": null,
            "_model_module_version": "1.2.0",
            "_view_count": null,
            "flex_flow": null,
            "width": null,
            "min_width": null,
            "border": null,
            "align_items": null,
            "bottom": null,
            "_model_module": "@jupyter-widgets/base",
            "top": null,
            "grid_column": null,
            "overflow_y": null,
            "overflow_x": null,
            "grid_auto_flow": null,
            "grid_area": null,
            "grid_template_columns": null,
            "flex": null,
            "_model_name": "LayoutModel",
            "justify_items": null,
            "grid_row": null,
            "max_height": null,
            "align_content": null,
            "visibility": null,
            "align_self": null,
            "height": null,
            "min_height": null,
            "padding": null,
            "grid_auto_rows": null,
            "grid_gap": null,
            "max_width": null,
            "order": null,
            "_view_module_version": "1.2.0",
            "grid_template_areas": null,
            "object_position": null,
            "object_fit": null,
            "grid_auto_columns": null,
            "margin": null,
            "display": null,
            "left": null
          }
        },
        "6b41a5d090a641529567197cc006fa0b": {
          "model_module": "@jupyter-widgets/controls",
          "model_name": "HBoxModel",
          "state": {
            "_view_name": "HBoxView",
            "_dom_classes": [],
            "_model_name": "HBoxModel",
            "_view_module": "@jupyter-widgets/controls",
            "_model_module_version": "1.5.0",
            "_view_count": null,
            "_view_module_version": "1.5.0",
            "box_style": "",
            "layout": "IPY_MODEL_f944c2d7ad73408c9505e7c9f5440f31",
            "_model_module": "@jupyter-widgets/controls",
            "children": [
              "IPY_MODEL_3470d57e0cde4bb68158d9529576229c",
              "IPY_MODEL_035e462a5a0845dc96a3dbc03657e0db"
            ]
          }
        },
        "f944c2d7ad73408c9505e7c9f5440f31": {
          "model_module": "@jupyter-widgets/base",
          "model_name": "LayoutModel",
          "state": {
            "_view_name": "LayoutView",
            "grid_template_rows": null,
            "right": null,
            "justify_content": null,
            "_view_module": "@jupyter-widgets/base",
            "overflow": null,
            "_model_module_version": "1.2.0",
            "_view_count": null,
            "flex_flow": null,
            "width": null,
            "min_width": null,
            "border": null,
            "align_items": null,
            "bottom": null,
            "_model_module": "@jupyter-widgets/base",
            "top": null,
            "grid_column": null,
            "overflow_y": null,
            "overflow_x": null,
            "grid_auto_flow": null,
            "grid_area": null,
            "grid_template_columns": null,
            "flex": null,
            "_model_name": "LayoutModel",
            "justify_items": null,
            "grid_row": null,
            "max_height": null,
            "align_content": null,
            "visibility": null,
            "align_self": null,
            "height": null,
            "min_height": null,
            "padding": null,
            "grid_auto_rows": null,
            "grid_gap": null,
            "max_width": null,
            "order": null,
            "_view_module_version": "1.2.0",
            "grid_template_areas": null,
            "object_position": null,
            "object_fit": null,
            "grid_auto_columns": null,
            "margin": null,
            "display": null,
            "left": null
          }
        },
        "3470d57e0cde4bb68158d9529576229c": {
          "model_module": "@jupyter-widgets/controls",
          "model_name": "FloatProgressModel",
          "state": {
            "_view_name": "ProgressView",
            "style": "IPY_MODEL_4dd97dc1eb9f4fbe8e27385ce2f2218c",
            "_dom_classes": [],
            "description": "100%",
            "_model_name": "FloatProgressModel",
            "bar_style": "success",
            "max": 169,
            "_view_module": "@jupyter-widgets/controls",
            "_model_module_version": "1.5.0",
            "value": 169,
            "_view_count": null,
            "_view_module_version": "1.5.0",
            "orientation": "horizontal",
            "min": 0,
            "description_tooltip": null,
            "_model_module": "@jupyter-widgets/controls",
            "layout": "IPY_MODEL_7fb2df9f02f444468eecc47177492fc4"
          }
        },
        "035e462a5a0845dc96a3dbc03657e0db": {
          "model_module": "@jupyter-widgets/controls",
          "model_name": "HTMLModel",
          "state": {
            "_view_name": "HTMLView",
            "style": "IPY_MODEL_19458da75f1e49a6b93809233ddbbbd5",
            "_dom_classes": [],
            "description": "",
            "_model_name": "HTMLModel",
            "placeholder": "​",
            "_view_module": "@jupyter-widgets/controls",
            "_model_module_version": "1.5.0",
            "value": " 169/169 [00:08&lt;00:00, 20.09ex/s]",
            "_view_count": null,
            "_view_module_version": "1.5.0",
            "description_tooltip": null,
            "_model_module": "@jupyter-widgets/controls",
            "layout": "IPY_MODEL_71b8946a8dd846d9b933f49f01d0145b"
          }
        },
        "4dd97dc1eb9f4fbe8e27385ce2f2218c": {
          "model_module": "@jupyter-widgets/controls",
          "model_name": "ProgressStyleModel",
          "state": {
            "_view_name": "StyleView",
            "_model_name": "ProgressStyleModel",
            "description_width": "initial",
            "_view_module": "@jupyter-widgets/base",
            "_model_module_version": "1.5.0",
            "_view_count": null,
            "_view_module_version": "1.2.0",
            "bar_color": null,
            "_model_module": "@jupyter-widgets/controls"
          }
        },
        "7fb2df9f02f444468eecc47177492fc4": {
          "model_module": "@jupyter-widgets/base",
          "model_name": "LayoutModel",
          "state": {
            "_view_name": "LayoutView",
            "grid_template_rows": null,
            "right": null,
            "justify_content": null,
            "_view_module": "@jupyter-widgets/base",
            "overflow": null,
            "_model_module_version": "1.2.0",
            "_view_count": null,
            "flex_flow": null,
            "width": null,
            "min_width": null,
            "border": null,
            "align_items": null,
            "bottom": null,
            "_model_module": "@jupyter-widgets/base",
            "top": null,
            "grid_column": null,
            "overflow_y": null,
            "overflow_x": null,
            "grid_auto_flow": null,
            "grid_area": null,
            "grid_template_columns": null,
            "flex": null,
            "_model_name": "LayoutModel",
            "justify_items": null,
            "grid_row": null,
            "max_height": null,
            "align_content": null,
            "visibility": null,
            "align_self": null,
            "height": null,
            "min_height": null,
            "padding": null,
            "grid_auto_rows": null,
            "grid_gap": null,
            "max_width": null,
            "order": null,
            "_view_module_version": "1.2.0",
            "grid_template_areas": null,
            "object_position": null,
            "object_fit": null,
            "grid_auto_columns": null,
            "margin": null,
            "display": null,
            "left": null
          }
        },
        "19458da75f1e49a6b93809233ddbbbd5": {
          "model_module": "@jupyter-widgets/controls",
          "model_name": "DescriptionStyleModel",
          "state": {
            "_view_name": "StyleView",
            "_model_name": "DescriptionStyleModel",
            "description_width": "",
            "_view_module": "@jupyter-widgets/base",
            "_model_module_version": "1.5.0",
            "_view_count": null,
            "_view_module_version": "1.2.0",
            "_model_module": "@jupyter-widgets/controls"
          }
        },
        "71b8946a8dd846d9b933f49f01d0145b": {
          "model_module": "@jupyter-widgets/base",
          "model_name": "LayoutModel",
          "state": {
            "_view_name": "LayoutView",
            "grid_template_rows": null,
            "right": null,
            "justify_content": null,
            "_view_module": "@jupyter-widgets/base",
            "overflow": null,
            "_model_module_version": "1.2.0",
            "_view_count": null,
            "flex_flow": null,
            "width": null,
            "min_width": null,
            "border": null,
            "align_items": null,
            "bottom": null,
            "_model_module": "@jupyter-widgets/base",
            "top": null,
            "grid_column": null,
            "overflow_y": null,
            "overflow_x": null,
            "grid_auto_flow": null,
            "grid_area": null,
            "grid_template_columns": null,
            "flex": null,
            "_model_name": "LayoutModel",
            "justify_items": null,
            "grid_row": null,
            "max_height": null,
            "align_content": null,
            "visibility": null,
            "align_self": null,
            "height": null,
            "min_height": null,
            "padding": null,
            "grid_auto_rows": null,
            "grid_gap": null,
            "max_width": null,
            "order": null,
            "_view_module_version": "1.2.0",
            "grid_template_areas": null,
            "object_position": null,
            "object_fit": null,
            "grid_auto_columns": null,
            "margin": null,
            "display": null,
            "left": null
          }
        },
        "cd99ce10ceee48849002746a2df08a3f": {
          "model_module": "@jupyter-widgets/controls",
          "model_name": "HBoxModel",
          "state": {
            "_view_name": "HBoxView",
            "_dom_classes": [],
            "_model_name": "HBoxModel",
            "_view_module": "@jupyter-widgets/controls",
            "_model_module_version": "1.5.0",
            "_view_count": null,
            "_view_module_version": "1.5.0",
            "box_style": "",
            "layout": "IPY_MODEL_4b921238512f4c189294df5accd5149b",
            "_model_module": "@jupyter-widgets/controls",
            "children": [
              "IPY_MODEL_743b57a0855241bf99779f7ad45e9de2",
              "IPY_MODEL_0fa02e288de04a85b529e6e6cabcf9f9"
            ]
          }
        },
        "4b921238512f4c189294df5accd5149b": {
          "model_module": "@jupyter-widgets/base",
          "model_name": "LayoutModel",
          "state": {
            "_view_name": "LayoutView",
            "grid_template_rows": null,
            "right": null,
            "justify_content": null,
            "_view_module": "@jupyter-widgets/base",
            "overflow": null,
            "_model_module_version": "1.2.0",
            "_view_count": null,
            "flex_flow": null,
            "width": null,
            "min_width": null,
            "border": null,
            "align_items": null,
            "bottom": null,
            "_model_module": "@jupyter-widgets/base",
            "top": null,
            "grid_column": null,
            "overflow_y": null,
            "overflow_x": null,
            "grid_auto_flow": null,
            "grid_area": null,
            "grid_template_columns": null,
            "flex": null,
            "_model_name": "LayoutModel",
            "justify_items": null,
            "grid_row": null,
            "max_height": null,
            "align_content": null,
            "visibility": null,
            "align_self": null,
            "height": null,
            "min_height": null,
            "padding": null,
            "grid_auto_rows": null,
            "grid_gap": null,
            "max_width": null,
            "order": null,
            "_view_module_version": "1.2.0",
            "grid_template_areas": null,
            "object_position": null,
            "object_fit": null,
            "grid_auto_columns": null,
            "margin": null,
            "display": null,
            "left": null
          }
        },
        "743b57a0855241bf99779f7ad45e9de2": {
          "model_module": "@jupyter-widgets/controls",
          "model_name": "FloatProgressModel",
          "state": {
            "_view_name": "ProgressView",
            "style": "IPY_MODEL_fd4815888e164bd6ba9c4edb1c8d0e2e",
            "_dom_classes": [],
            "description": "#0: 100%",
            "_model_name": "FloatProgressModel",
            "bar_style": "success",
            "max": 375,
            "_view_module": "@jupyter-widgets/controls",
            "_model_module_version": "1.5.0",
            "value": 375,
            "_view_count": null,
            "_view_module_version": "1.5.0",
            "orientation": "horizontal",
            "min": 0,
            "description_tooltip": null,
            "_model_module": "@jupyter-widgets/controls",
            "layout": "IPY_MODEL_b235f20ef3ef4ef5b1e1c618cccaa856"
          }
        },
        "0fa02e288de04a85b529e6e6cabcf9f9": {
          "model_module": "@jupyter-widgets/controls",
          "model_name": "HTMLModel",
          "state": {
            "_view_name": "HTMLView",
            "style": "IPY_MODEL_5075b26ef0074c759aadb2ae327e9a83",
            "_dom_classes": [],
            "description": "",
            "_model_name": "HTMLModel",
            "placeholder": "​",
            "_view_module": "@jupyter-widgets/controls",
            "_model_module_version": "1.5.0",
            "value": " 375/375 [00:21&lt;00:00, 17.50ex/s]",
            "_view_count": null,
            "_view_module_version": "1.5.0",
            "description_tooltip": null,
            "_model_module": "@jupyter-widgets/controls",
            "layout": "IPY_MODEL_ee3d4acbc8d44d3db475588a58f13d12"
          }
        },
        "fd4815888e164bd6ba9c4edb1c8d0e2e": {
          "model_module": "@jupyter-widgets/controls",
          "model_name": "ProgressStyleModel",
          "state": {
            "_view_name": "StyleView",
            "_model_name": "ProgressStyleModel",
            "description_width": "initial",
            "_view_module": "@jupyter-widgets/base",
            "_model_module_version": "1.5.0",
            "_view_count": null,
            "_view_module_version": "1.2.0",
            "bar_color": null,
            "_model_module": "@jupyter-widgets/controls"
          }
        },
        "b235f20ef3ef4ef5b1e1c618cccaa856": {
          "model_module": "@jupyter-widgets/base",
          "model_name": "LayoutModel",
          "state": {
            "_view_name": "LayoutView",
            "grid_template_rows": null,
            "right": null,
            "justify_content": null,
            "_view_module": "@jupyter-widgets/base",
            "overflow": null,
            "_model_module_version": "1.2.0",
            "_view_count": null,
            "flex_flow": null,
            "width": null,
            "min_width": null,
            "border": null,
            "align_items": null,
            "bottom": null,
            "_model_module": "@jupyter-widgets/base",
            "top": null,
            "grid_column": null,
            "overflow_y": null,
            "overflow_x": null,
            "grid_auto_flow": null,
            "grid_area": null,
            "grid_template_columns": null,
            "flex": null,
            "_model_name": "LayoutModel",
            "justify_items": null,
            "grid_row": null,
            "max_height": null,
            "align_content": null,
            "visibility": null,
            "align_self": null,
            "height": null,
            "min_height": null,
            "padding": null,
            "grid_auto_rows": null,
            "grid_gap": null,
            "max_width": null,
            "order": null,
            "_view_module_version": "1.2.0",
            "grid_template_areas": null,
            "object_position": null,
            "object_fit": null,
            "grid_auto_columns": null,
            "margin": null,
            "display": null,
            "left": null
          }
        },
        "5075b26ef0074c759aadb2ae327e9a83": {
          "model_module": "@jupyter-widgets/controls",
          "model_name": "DescriptionStyleModel",
          "state": {
            "_view_name": "StyleView",
            "_model_name": "DescriptionStyleModel",
            "description_width": "",
            "_view_module": "@jupyter-widgets/base",
            "_model_module_version": "1.5.0",
            "_view_count": null,
            "_view_module_version": "1.2.0",
            "_model_module": "@jupyter-widgets/controls"
          }
        },
        "ee3d4acbc8d44d3db475588a58f13d12": {
          "model_module": "@jupyter-widgets/base",
          "model_name": "LayoutModel",
          "state": {
            "_view_name": "LayoutView",
            "grid_template_rows": null,
            "right": null,
            "justify_content": null,
            "_view_module": "@jupyter-widgets/base",
            "overflow": null,
            "_model_module_version": "1.2.0",
            "_view_count": null,
            "flex_flow": null,
            "width": null,
            "min_width": null,
            "border": null,
            "align_items": null,
            "bottom": null,
            "_model_module": "@jupyter-widgets/base",
            "top": null,
            "grid_column": null,
            "overflow_y": null,
            "overflow_x": null,
            "grid_auto_flow": null,
            "grid_area": null,
            "grid_template_columns": null,
            "flex": null,
            "_model_name": "LayoutModel",
            "justify_items": null,
            "grid_row": null,
            "max_height": null,
            "align_content": null,
            "visibility": null,
            "align_self": null,
            "height": null,
            "min_height": null,
            "padding": null,
            "grid_auto_rows": null,
            "grid_gap": null,
            "max_width": null,
            "order": null,
            "_view_module_version": "1.2.0",
            "grid_template_areas": null,
            "object_position": null,
            "object_fit": null,
            "grid_auto_columns": null,
            "margin": null,
            "display": null,
            "left": null
          }
        },
        "ff1d11604beb434f98808b776f92aafb": {
          "model_module": "@jupyter-widgets/controls",
          "model_name": "HBoxModel",
          "state": {
            "_view_name": "HBoxView",
            "_dom_classes": [],
            "_model_name": "HBoxModel",
            "_view_module": "@jupyter-widgets/controls",
            "_model_module_version": "1.5.0",
            "_view_count": null,
            "_view_module_version": "1.5.0",
            "box_style": "",
            "layout": "IPY_MODEL_691c570b3ec1493ba2fac290a64349f9",
            "_model_module": "@jupyter-widgets/controls",
            "children": [
              "IPY_MODEL_3eb19f2980ea49bbb576bbaff1d093e4",
              "IPY_MODEL_e9cbcf16d7514274a759dc19e779f49e"
            ]
          }
        },
        "691c570b3ec1493ba2fac290a64349f9": {
          "model_module": "@jupyter-widgets/base",
          "model_name": "LayoutModel",
          "state": {
            "_view_name": "LayoutView",
            "grid_template_rows": null,
            "right": null,
            "justify_content": null,
            "_view_module": "@jupyter-widgets/base",
            "overflow": null,
            "_model_module_version": "1.2.0",
            "_view_count": null,
            "flex_flow": null,
            "width": null,
            "min_width": null,
            "border": null,
            "align_items": null,
            "bottom": null,
            "_model_module": "@jupyter-widgets/base",
            "top": null,
            "grid_column": null,
            "overflow_y": null,
            "overflow_x": null,
            "grid_auto_flow": null,
            "grid_area": null,
            "grid_template_columns": null,
            "flex": null,
            "_model_name": "LayoutModel",
            "justify_items": null,
            "grid_row": null,
            "max_height": null,
            "align_content": null,
            "visibility": null,
            "align_self": null,
            "height": null,
            "min_height": null,
            "padding": null,
            "grid_auto_rows": null,
            "grid_gap": null,
            "max_width": null,
            "order": null,
            "_view_module_version": "1.2.0",
            "grid_template_areas": null,
            "object_position": null,
            "object_fit": null,
            "grid_auto_columns": null,
            "margin": null,
            "display": null,
            "left": null
          }
        },
        "3eb19f2980ea49bbb576bbaff1d093e4": {
          "model_module": "@jupyter-widgets/controls",
          "model_name": "FloatProgressModel",
          "state": {
            "_view_name": "ProgressView",
            "style": "IPY_MODEL_1738a46b1958411c819c0064043419ce",
            "_dom_classes": [],
            "description": "#1: 100%",
            "_model_name": "FloatProgressModel",
            "bar_style": "success",
            "max": 375,
            "_view_module": "@jupyter-widgets/controls",
            "_model_module_version": "1.5.0",
            "value": 375,
            "_view_count": null,
            "_view_module_version": "1.5.0",
            "orientation": "horizontal",
            "min": 0,
            "description_tooltip": null,
            "_model_module": "@jupyter-widgets/controls",
            "layout": "IPY_MODEL_edf31d8b258f46048f25883e03e0a465"
          }
        },
        "e9cbcf16d7514274a759dc19e779f49e": {
          "model_module": "@jupyter-widgets/controls",
          "model_name": "HTMLModel",
          "state": {
            "_view_name": "HTMLView",
            "style": "IPY_MODEL_18a62e1878a94b0a9d978dc5d19952d6",
            "_dom_classes": [],
            "description": "",
            "_model_name": "HTMLModel",
            "placeholder": "​",
            "_view_module": "@jupyter-widgets/controls",
            "_model_module_version": "1.5.0",
            "value": " 375/375 [00:23&lt;00:00, 16.25ex/s]",
            "_view_count": null,
            "_view_module_version": "1.5.0",
            "description_tooltip": null,
            "_model_module": "@jupyter-widgets/controls",
            "layout": "IPY_MODEL_2b7ee070e7054dd1b04050cf29343185"
          }
        },
        "1738a46b1958411c819c0064043419ce": {
          "model_module": "@jupyter-widgets/controls",
          "model_name": "ProgressStyleModel",
          "state": {
            "_view_name": "StyleView",
            "_model_name": "ProgressStyleModel",
            "description_width": "initial",
            "_view_module": "@jupyter-widgets/base",
            "_model_module_version": "1.5.0",
            "_view_count": null,
            "_view_module_version": "1.2.0",
            "bar_color": null,
            "_model_module": "@jupyter-widgets/controls"
          }
        },
        "edf31d8b258f46048f25883e03e0a465": {
          "model_module": "@jupyter-widgets/base",
          "model_name": "LayoutModel",
          "state": {
            "_view_name": "LayoutView",
            "grid_template_rows": null,
            "right": null,
            "justify_content": null,
            "_view_module": "@jupyter-widgets/base",
            "overflow": null,
            "_model_module_version": "1.2.0",
            "_view_count": null,
            "flex_flow": null,
            "width": null,
            "min_width": null,
            "border": null,
            "align_items": null,
            "bottom": null,
            "_model_module": "@jupyter-widgets/base",
            "top": null,
            "grid_column": null,
            "overflow_y": null,
            "overflow_x": null,
            "grid_auto_flow": null,
            "grid_area": null,
            "grid_template_columns": null,
            "flex": null,
            "_model_name": "LayoutModel",
            "justify_items": null,
            "grid_row": null,
            "max_height": null,
            "align_content": null,
            "visibility": null,
            "align_self": null,
            "height": null,
            "min_height": null,
            "padding": null,
            "grid_auto_rows": null,
            "grid_gap": null,
            "max_width": null,
            "order": null,
            "_view_module_version": "1.2.0",
            "grid_template_areas": null,
            "object_position": null,
            "object_fit": null,
            "grid_auto_columns": null,
            "margin": null,
            "display": null,
            "left": null
          }
        },
        "18a62e1878a94b0a9d978dc5d19952d6": {
          "model_module": "@jupyter-widgets/controls",
          "model_name": "DescriptionStyleModel",
          "state": {
            "_view_name": "StyleView",
            "_model_name": "DescriptionStyleModel",
            "description_width": "",
            "_view_module": "@jupyter-widgets/base",
            "_model_module_version": "1.5.0",
            "_view_count": null,
            "_view_module_version": "1.2.0",
            "_model_module": "@jupyter-widgets/controls"
          }
        },
        "2b7ee070e7054dd1b04050cf29343185": {
          "model_module": "@jupyter-widgets/base",
          "model_name": "LayoutModel",
          "state": {
            "_view_name": "LayoutView",
            "grid_template_rows": null,
            "right": null,
            "justify_content": null,
            "_view_module": "@jupyter-widgets/base",
            "overflow": null,
            "_model_module_version": "1.2.0",
            "_view_count": null,
            "flex_flow": null,
            "width": null,
            "min_width": null,
            "border": null,
            "align_items": null,
            "bottom": null,
            "_model_module": "@jupyter-widgets/base",
            "top": null,
            "grid_column": null,
            "overflow_y": null,
            "overflow_x": null,
            "grid_auto_flow": null,
            "grid_area": null,
            "grid_template_columns": null,
            "flex": null,
            "_model_name": "LayoutModel",
            "justify_items": null,
            "grid_row": null,
            "max_height": null,
            "align_content": null,
            "visibility": null,
            "align_self": null,
            "height": null,
            "min_height": null,
            "padding": null,
            "grid_auto_rows": null,
            "grid_gap": null,
            "max_width": null,
            "order": null,
            "_view_module_version": "1.2.0",
            "grid_template_areas": null,
            "object_position": null,
            "object_fit": null,
            "grid_auto_columns": null,
            "margin": null,
            "display": null,
            "left": null
          }
        },
        "75172d5313ac4ead9c7c619b6d95bfb9": {
          "model_module": "@jupyter-widgets/controls",
          "model_name": "HBoxModel",
          "state": {
            "_view_name": "HBoxView",
            "_dom_classes": [],
            "_model_name": "HBoxModel",
            "_view_module": "@jupyter-widgets/controls",
            "_model_module_version": "1.5.0",
            "_view_count": null,
            "_view_module_version": "1.5.0",
            "box_style": "",
            "layout": "IPY_MODEL_00bcb798c32041e2a5efc752310ae4c0",
            "_model_module": "@jupyter-widgets/controls",
            "children": [
              "IPY_MODEL_51e415b3b5894c6a9927b32649820d83",
              "IPY_MODEL_e56013e273b145a2b379345e006cda85"
            ]
          }
        },
        "00bcb798c32041e2a5efc752310ae4c0": {
          "model_module": "@jupyter-widgets/base",
          "model_name": "LayoutModel",
          "state": {
            "_view_name": "LayoutView",
            "grid_template_rows": null,
            "right": null,
            "justify_content": null,
            "_view_module": "@jupyter-widgets/base",
            "overflow": null,
            "_model_module_version": "1.2.0",
            "_view_count": null,
            "flex_flow": null,
            "width": null,
            "min_width": null,
            "border": null,
            "align_items": null,
            "bottom": null,
            "_model_module": "@jupyter-widgets/base",
            "top": null,
            "grid_column": null,
            "overflow_y": null,
            "overflow_x": null,
            "grid_auto_flow": null,
            "grid_area": null,
            "grid_template_columns": null,
            "flex": null,
            "_model_name": "LayoutModel",
            "justify_items": null,
            "grid_row": null,
            "max_height": null,
            "align_content": null,
            "visibility": null,
            "align_self": null,
            "height": null,
            "min_height": null,
            "padding": null,
            "grid_auto_rows": null,
            "grid_gap": null,
            "max_width": null,
            "order": null,
            "_view_module_version": "1.2.0",
            "grid_template_areas": null,
            "object_position": null,
            "object_fit": null,
            "grid_auto_columns": null,
            "margin": null,
            "display": null,
            "left": null
          }
        },
        "51e415b3b5894c6a9927b32649820d83": {
          "model_module": "@jupyter-widgets/controls",
          "model_name": "FloatProgressModel",
          "state": {
            "_view_name": "ProgressView",
            "style": "IPY_MODEL_f0160717b83c40bea7ff6cc2b4c65ee0",
            "_dom_classes": [],
            "description": "#2: 100%",
            "_model_name": "FloatProgressModel",
            "bar_style": "success",
            "max": 375,
            "_view_module": "@jupyter-widgets/controls",
            "_model_module_version": "1.5.0",
            "value": 375,
            "_view_count": null,
            "_view_module_version": "1.5.0",
            "orientation": "horizontal",
            "min": 0,
            "description_tooltip": null,
            "_model_module": "@jupyter-widgets/controls",
            "layout": "IPY_MODEL_a2b23a81e74a4e178c516d53713292ac"
          }
        },
        "e56013e273b145a2b379345e006cda85": {
          "model_module": "@jupyter-widgets/controls",
          "model_name": "HTMLModel",
          "state": {
            "_view_name": "HTMLView",
            "style": "IPY_MODEL_72be7b1d89bc45a1af48785f3ec2fe85",
            "_dom_classes": [],
            "description": "",
            "_model_name": "HTMLModel",
            "placeholder": "​",
            "_view_module": "@jupyter-widgets/controls",
            "_model_module_version": "1.5.0",
            "value": " 375/375 [00:22&lt;00:00, 17.02ex/s]",
            "_view_count": null,
            "_view_module_version": "1.5.0",
            "description_tooltip": null,
            "_model_module": "@jupyter-widgets/controls",
            "layout": "IPY_MODEL_333b7264f61941fbba1d3b81aa13d94a"
          }
        },
        "f0160717b83c40bea7ff6cc2b4c65ee0": {
          "model_module": "@jupyter-widgets/controls",
          "model_name": "ProgressStyleModel",
          "state": {
            "_view_name": "StyleView",
            "_model_name": "ProgressStyleModel",
            "description_width": "initial",
            "_view_module": "@jupyter-widgets/base",
            "_model_module_version": "1.5.0",
            "_view_count": null,
            "_view_module_version": "1.2.0",
            "bar_color": null,
            "_model_module": "@jupyter-widgets/controls"
          }
        },
        "a2b23a81e74a4e178c516d53713292ac": {
          "model_module": "@jupyter-widgets/base",
          "model_name": "LayoutModel",
          "state": {
            "_view_name": "LayoutView",
            "grid_template_rows": null,
            "right": null,
            "justify_content": null,
            "_view_module": "@jupyter-widgets/base",
            "overflow": null,
            "_model_module_version": "1.2.0",
            "_view_count": null,
            "flex_flow": null,
            "width": null,
            "min_width": null,
            "border": null,
            "align_items": null,
            "bottom": null,
            "_model_module": "@jupyter-widgets/base",
            "top": null,
            "grid_column": null,
            "overflow_y": null,
            "overflow_x": null,
            "grid_auto_flow": null,
            "grid_area": null,
            "grid_template_columns": null,
            "flex": null,
            "_model_name": "LayoutModel",
            "justify_items": null,
            "grid_row": null,
            "max_height": null,
            "align_content": null,
            "visibility": null,
            "align_self": null,
            "height": null,
            "min_height": null,
            "padding": null,
            "grid_auto_rows": null,
            "grid_gap": null,
            "max_width": null,
            "order": null,
            "_view_module_version": "1.2.0",
            "grid_template_areas": null,
            "object_position": null,
            "object_fit": null,
            "grid_auto_columns": null,
            "margin": null,
            "display": null,
            "left": null
          }
        },
        "72be7b1d89bc45a1af48785f3ec2fe85": {
          "model_module": "@jupyter-widgets/controls",
          "model_name": "DescriptionStyleModel",
          "state": {
            "_view_name": "StyleView",
            "_model_name": "DescriptionStyleModel",
            "description_width": "",
            "_view_module": "@jupyter-widgets/base",
            "_model_module_version": "1.5.0",
            "_view_count": null,
            "_view_module_version": "1.2.0",
            "_model_module": "@jupyter-widgets/controls"
          }
        },
        "333b7264f61941fbba1d3b81aa13d94a": {
          "model_module": "@jupyter-widgets/base",
          "model_name": "LayoutModel",
          "state": {
            "_view_name": "LayoutView",
            "grid_template_rows": null,
            "right": null,
            "justify_content": null,
            "_view_module": "@jupyter-widgets/base",
            "overflow": null,
            "_model_module_version": "1.2.0",
            "_view_count": null,
            "flex_flow": null,
            "width": null,
            "min_width": null,
            "border": null,
            "align_items": null,
            "bottom": null,
            "_model_module": "@jupyter-widgets/base",
            "top": null,
            "grid_column": null,
            "overflow_y": null,
            "overflow_x": null,
            "grid_auto_flow": null,
            "grid_area": null,
            "grid_template_columns": null,
            "flex": null,
            "_model_name": "LayoutModel",
            "justify_items": null,
            "grid_row": null,
            "max_height": null,
            "align_content": null,
            "visibility": null,
            "align_self": null,
            "height": null,
            "min_height": null,
            "padding": null,
            "grid_auto_rows": null,
            "grid_gap": null,
            "max_width": null,
            "order": null,
            "_view_module_version": "1.2.0",
            "grid_template_areas": null,
            "object_position": null,
            "object_fit": null,
            "grid_auto_columns": null,
            "margin": null,
            "display": null,
            "left": null
          }
        },
        "12bda4695e284032b8587e8f2e940693": {
          "model_module": "@jupyter-widgets/controls",
          "model_name": "HBoxModel",
          "state": {
            "_view_name": "HBoxView",
            "_dom_classes": [],
            "_model_name": "HBoxModel",
            "_view_module": "@jupyter-widgets/controls",
            "_model_module_version": "1.5.0",
            "_view_count": null,
            "_view_module_version": "1.5.0",
            "box_style": "",
            "layout": "IPY_MODEL_430d31be2c4c470cafbebc8c8299b4eb",
            "_model_module": "@jupyter-widgets/controls",
            "children": [
              "IPY_MODEL_138bbec456764975a7026e9ce89d2870",
              "IPY_MODEL_170f6533389b4b69b2d4ae609dd58653"
            ]
          }
        },
        "430d31be2c4c470cafbebc8c8299b4eb": {
          "model_module": "@jupyter-widgets/base",
          "model_name": "LayoutModel",
          "state": {
            "_view_name": "LayoutView",
            "grid_template_rows": null,
            "right": null,
            "justify_content": null,
            "_view_module": "@jupyter-widgets/base",
            "overflow": null,
            "_model_module_version": "1.2.0",
            "_view_count": null,
            "flex_flow": null,
            "width": null,
            "min_width": null,
            "border": null,
            "align_items": null,
            "bottom": null,
            "_model_module": "@jupyter-widgets/base",
            "top": null,
            "grid_column": null,
            "overflow_y": null,
            "overflow_x": null,
            "grid_auto_flow": null,
            "grid_area": null,
            "grid_template_columns": null,
            "flex": null,
            "_model_name": "LayoutModel",
            "justify_items": null,
            "grid_row": null,
            "max_height": null,
            "align_content": null,
            "visibility": null,
            "align_self": null,
            "height": null,
            "min_height": null,
            "padding": null,
            "grid_auto_rows": null,
            "grid_gap": null,
            "max_width": null,
            "order": null,
            "_view_module_version": "1.2.0",
            "grid_template_areas": null,
            "object_position": null,
            "object_fit": null,
            "grid_auto_columns": null,
            "margin": null,
            "display": null,
            "left": null
          }
        },
        "138bbec456764975a7026e9ce89d2870": {
          "model_module": "@jupyter-widgets/controls",
          "model_name": "FloatProgressModel",
          "state": {
            "_view_name": "ProgressView",
            "style": "IPY_MODEL_679c9239b2d94b0b8422fa7730179b7d",
            "_dom_classes": [],
            "description": "#3: 100%",
            "_model_name": "FloatProgressModel",
            "bar_style": "success",
            "max": 375,
            "_view_module": "@jupyter-widgets/controls",
            "_model_module_version": "1.5.0",
            "value": 375,
            "_view_count": null,
            "_view_module_version": "1.5.0",
            "orientation": "horizontal",
            "min": 0,
            "description_tooltip": null,
            "_model_module": "@jupyter-widgets/controls",
            "layout": "IPY_MODEL_b6b02fc76718410887f984cf664f7cb1"
          }
        },
        "170f6533389b4b69b2d4ae609dd58653": {
          "model_module": "@jupyter-widgets/controls",
          "model_name": "HTMLModel",
          "state": {
            "_view_name": "HTMLView",
            "style": "IPY_MODEL_2de3611c149241c3b0835bd82e8f7946",
            "_dom_classes": [],
            "description": "",
            "_model_name": "HTMLModel",
            "placeholder": "​",
            "_view_module": "@jupyter-widgets/controls",
            "_model_module_version": "1.5.0",
            "value": " 375/375 [00:20&lt;00:00, 18.13ex/s]",
            "_view_count": null,
            "_view_module_version": "1.5.0",
            "description_tooltip": null,
            "_model_module": "@jupyter-widgets/controls",
            "layout": "IPY_MODEL_cac8c2bec3094de5a728c77120d49def"
          }
        },
        "679c9239b2d94b0b8422fa7730179b7d": {
          "model_module": "@jupyter-widgets/controls",
          "model_name": "ProgressStyleModel",
          "state": {
            "_view_name": "StyleView",
            "_model_name": "ProgressStyleModel",
            "description_width": "initial",
            "_view_module": "@jupyter-widgets/base",
            "_model_module_version": "1.5.0",
            "_view_count": null,
            "_view_module_version": "1.2.0",
            "bar_color": null,
            "_model_module": "@jupyter-widgets/controls"
          }
        },
        "b6b02fc76718410887f984cf664f7cb1": {
          "model_module": "@jupyter-widgets/base",
          "model_name": "LayoutModel",
          "state": {
            "_view_name": "LayoutView",
            "grid_template_rows": null,
            "right": null,
            "justify_content": null,
            "_view_module": "@jupyter-widgets/base",
            "overflow": null,
            "_model_module_version": "1.2.0",
            "_view_count": null,
            "flex_flow": null,
            "width": null,
            "min_width": null,
            "border": null,
            "align_items": null,
            "bottom": null,
            "_model_module": "@jupyter-widgets/base",
            "top": null,
            "grid_column": null,
            "overflow_y": null,
            "overflow_x": null,
            "grid_auto_flow": null,
            "grid_area": null,
            "grid_template_columns": null,
            "flex": null,
            "_model_name": "LayoutModel",
            "justify_items": null,
            "grid_row": null,
            "max_height": null,
            "align_content": null,
            "visibility": null,
            "align_self": null,
            "height": null,
            "min_height": null,
            "padding": null,
            "grid_auto_rows": null,
            "grid_gap": null,
            "max_width": null,
            "order": null,
            "_view_module_version": "1.2.0",
            "grid_template_areas": null,
            "object_position": null,
            "object_fit": null,
            "grid_auto_columns": null,
            "margin": null,
            "display": null,
            "left": null
          }
        },
        "2de3611c149241c3b0835bd82e8f7946": {
          "model_module": "@jupyter-widgets/controls",
          "model_name": "DescriptionStyleModel",
          "state": {
            "_view_name": "StyleView",
            "_model_name": "DescriptionStyleModel",
            "description_width": "",
            "_view_module": "@jupyter-widgets/base",
            "_model_module_version": "1.5.0",
            "_view_count": null,
            "_view_module_version": "1.2.0",
            "_model_module": "@jupyter-widgets/controls"
          }
        },
        "cac8c2bec3094de5a728c77120d49def": {
          "model_module": "@jupyter-widgets/base",
          "model_name": "LayoutModel",
          "state": {
            "_view_name": "LayoutView",
            "grid_template_rows": null,
            "right": null,
            "justify_content": null,
            "_view_module": "@jupyter-widgets/base",
            "overflow": null,
            "_model_module_version": "1.2.0",
            "_view_count": null,
            "flex_flow": null,
            "width": null,
            "min_width": null,
            "border": null,
            "align_items": null,
            "bottom": null,
            "_model_module": "@jupyter-widgets/base",
            "top": null,
            "grid_column": null,
            "overflow_y": null,
            "overflow_x": null,
            "grid_auto_flow": null,
            "grid_area": null,
            "grid_template_columns": null,
            "flex": null,
            "_model_name": "LayoutModel",
            "justify_items": null,
            "grid_row": null,
            "max_height": null,
            "align_content": null,
            "visibility": null,
            "align_self": null,
            "height": null,
            "min_height": null,
            "padding": null,
            "grid_auto_rows": null,
            "grid_gap": null,
            "max_width": null,
            "order": null,
            "_view_module_version": "1.2.0",
            "grid_template_areas": null,
            "object_position": null,
            "object_fit": null,
            "grid_auto_columns": null,
            "margin": null,
            "display": null,
            "left": null
          }
        },
        "c4d633c7494d457c97d20f12f254f147": {
          "model_module": "@jupyter-widgets/controls",
          "model_name": "HBoxModel",
          "state": {
            "_view_name": "HBoxView",
            "_dom_classes": [],
            "_model_name": "HBoxModel",
            "_view_module": "@jupyter-widgets/controls",
            "_model_module_version": "1.5.0",
            "_view_count": null,
            "_view_module_version": "1.5.0",
            "box_style": "",
            "layout": "IPY_MODEL_800addc7dc5344e3bf64d23e371b1991",
            "_model_module": "@jupyter-widgets/controls",
            "children": [
              "IPY_MODEL_6843fe7bcfe04b40ab17e665746a0209",
              "IPY_MODEL_6404e95277bb4e1ba49dd0b78156bbb0"
            ]
          }
        },
        "800addc7dc5344e3bf64d23e371b1991": {
          "model_module": "@jupyter-widgets/base",
          "model_name": "LayoutModel",
          "state": {
            "_view_name": "LayoutView",
            "grid_template_rows": null,
            "right": null,
            "justify_content": null,
            "_view_module": "@jupyter-widgets/base",
            "overflow": null,
            "_model_module_version": "1.2.0",
            "_view_count": null,
            "flex_flow": null,
            "width": null,
            "min_width": null,
            "border": null,
            "align_items": null,
            "bottom": null,
            "_model_module": "@jupyter-widgets/base",
            "top": null,
            "grid_column": null,
            "overflow_y": null,
            "overflow_x": null,
            "grid_auto_flow": null,
            "grid_area": null,
            "grid_template_columns": null,
            "flex": null,
            "_model_name": "LayoutModel",
            "justify_items": null,
            "grid_row": null,
            "max_height": null,
            "align_content": null,
            "visibility": null,
            "align_self": null,
            "height": null,
            "min_height": null,
            "padding": null,
            "grid_auto_rows": null,
            "grid_gap": null,
            "max_width": null,
            "order": null,
            "_view_module_version": "1.2.0",
            "grid_template_areas": null,
            "object_position": null,
            "object_fit": null,
            "grid_auto_columns": null,
            "margin": null,
            "display": null,
            "left": null
          }
        },
        "6843fe7bcfe04b40ab17e665746a0209": {
          "model_module": "@jupyter-widgets/controls",
          "model_name": "FloatProgressModel",
          "state": {
            "_view_name": "ProgressView",
            "style": "IPY_MODEL_76590346965b428e85db778828ab26db",
            "_dom_classes": [],
            "description": "#0: 100%",
            "_model_name": "FloatProgressModel",
            "bar_style": "success",
            "max": 43,
            "_view_module": "@jupyter-widgets/controls",
            "_model_module_version": "1.5.0",
            "value": 43,
            "_view_count": null,
            "_view_module_version": "1.5.0",
            "orientation": "horizontal",
            "min": 0,
            "description_tooltip": null,
            "_model_module": "@jupyter-widgets/controls",
            "layout": "IPY_MODEL_2da00b165ddf4307a6846b2720a4988c"
          }
        },
        "6404e95277bb4e1ba49dd0b78156bbb0": {
          "model_module": "@jupyter-widgets/controls",
          "model_name": "HTMLModel",
          "state": {
            "_view_name": "HTMLView",
            "style": "IPY_MODEL_fd58495f55254c45a4561ae81be02e3d",
            "_dom_classes": [],
            "description": "",
            "_model_name": "HTMLModel",
            "placeholder": "​",
            "_view_module": "@jupyter-widgets/controls",
            "_model_module_version": "1.5.0",
            "value": " 43/43 [00:04&lt;00:00,  8.96ex/s]",
            "_view_count": null,
            "_view_module_version": "1.5.0",
            "description_tooltip": null,
            "_model_module": "@jupyter-widgets/controls",
            "layout": "IPY_MODEL_612e0cf5b44d4f4da7aac577418c3cff"
          }
        },
        "76590346965b428e85db778828ab26db": {
          "model_module": "@jupyter-widgets/controls",
          "model_name": "ProgressStyleModel",
          "state": {
            "_view_name": "StyleView",
            "_model_name": "ProgressStyleModel",
            "description_width": "initial",
            "_view_module": "@jupyter-widgets/base",
            "_model_module_version": "1.5.0",
            "_view_count": null,
            "_view_module_version": "1.2.0",
            "bar_color": null,
            "_model_module": "@jupyter-widgets/controls"
          }
        },
        "2da00b165ddf4307a6846b2720a4988c": {
          "model_module": "@jupyter-widgets/base",
          "model_name": "LayoutModel",
          "state": {
            "_view_name": "LayoutView",
            "grid_template_rows": null,
            "right": null,
            "justify_content": null,
            "_view_module": "@jupyter-widgets/base",
            "overflow": null,
            "_model_module_version": "1.2.0",
            "_view_count": null,
            "flex_flow": null,
            "width": null,
            "min_width": null,
            "border": null,
            "align_items": null,
            "bottom": null,
            "_model_module": "@jupyter-widgets/base",
            "top": null,
            "grid_column": null,
            "overflow_y": null,
            "overflow_x": null,
            "grid_auto_flow": null,
            "grid_area": null,
            "grid_template_columns": null,
            "flex": null,
            "_model_name": "LayoutModel",
            "justify_items": null,
            "grid_row": null,
            "max_height": null,
            "align_content": null,
            "visibility": null,
            "align_self": null,
            "height": null,
            "min_height": null,
            "padding": null,
            "grid_auto_rows": null,
            "grid_gap": null,
            "max_width": null,
            "order": null,
            "_view_module_version": "1.2.0",
            "grid_template_areas": null,
            "object_position": null,
            "object_fit": null,
            "grid_auto_columns": null,
            "margin": null,
            "display": null,
            "left": null
          }
        },
        "fd58495f55254c45a4561ae81be02e3d": {
          "model_module": "@jupyter-widgets/controls",
          "model_name": "DescriptionStyleModel",
          "state": {
            "_view_name": "StyleView",
            "_model_name": "DescriptionStyleModel",
            "description_width": "",
            "_view_module": "@jupyter-widgets/base",
            "_model_module_version": "1.5.0",
            "_view_count": null,
            "_view_module_version": "1.2.0",
            "_model_module": "@jupyter-widgets/controls"
          }
        },
        "612e0cf5b44d4f4da7aac577418c3cff": {
          "model_module": "@jupyter-widgets/base",
          "model_name": "LayoutModel",
          "state": {
            "_view_name": "LayoutView",
            "grid_template_rows": null,
            "right": null,
            "justify_content": null,
            "_view_module": "@jupyter-widgets/base",
            "overflow": null,
            "_model_module_version": "1.2.0",
            "_view_count": null,
            "flex_flow": null,
            "width": null,
            "min_width": null,
            "border": null,
            "align_items": null,
            "bottom": null,
            "_model_module": "@jupyter-widgets/base",
            "top": null,
            "grid_column": null,
            "overflow_y": null,
            "overflow_x": null,
            "grid_auto_flow": null,
            "grid_area": null,
            "grid_template_columns": null,
            "flex": null,
            "_model_name": "LayoutModel",
            "justify_items": null,
            "grid_row": null,
            "max_height": null,
            "align_content": null,
            "visibility": null,
            "align_self": null,
            "height": null,
            "min_height": null,
            "padding": null,
            "grid_auto_rows": null,
            "grid_gap": null,
            "max_width": null,
            "order": null,
            "_view_module_version": "1.2.0",
            "grid_template_areas": null,
            "object_position": null,
            "object_fit": null,
            "grid_auto_columns": null,
            "margin": null,
            "display": null,
            "left": null
          }
        },
        "abb6a2a7c85740558eb15f1f5bce850e": {
          "model_module": "@jupyter-widgets/controls",
          "model_name": "HBoxModel",
          "state": {
            "_view_name": "HBoxView",
            "_dom_classes": [],
            "_model_name": "HBoxModel",
            "_view_module": "@jupyter-widgets/controls",
            "_model_module_version": "1.5.0",
            "_view_count": null,
            "_view_module_version": "1.5.0",
            "box_style": "",
            "layout": "IPY_MODEL_79c15e7f24464063a90cee0c0bc7f5c5",
            "_model_module": "@jupyter-widgets/controls",
            "children": [
              "IPY_MODEL_370aa4e7178249e9814b2ebd308a6e4a",
              "IPY_MODEL_f0854ea37a774792895e117b80273d21"
            ]
          }
        },
        "79c15e7f24464063a90cee0c0bc7f5c5": {
          "model_module": "@jupyter-widgets/base",
          "model_name": "LayoutModel",
          "state": {
            "_view_name": "LayoutView",
            "grid_template_rows": null,
            "right": null,
            "justify_content": null,
            "_view_module": "@jupyter-widgets/base",
            "overflow": null,
            "_model_module_version": "1.2.0",
            "_view_count": null,
            "flex_flow": null,
            "width": null,
            "min_width": null,
            "border": null,
            "align_items": null,
            "bottom": null,
            "_model_module": "@jupyter-widgets/base",
            "top": null,
            "grid_column": null,
            "overflow_y": null,
            "overflow_x": null,
            "grid_auto_flow": null,
            "grid_area": null,
            "grid_template_columns": null,
            "flex": null,
            "_model_name": "LayoutModel",
            "justify_items": null,
            "grid_row": null,
            "max_height": null,
            "align_content": null,
            "visibility": null,
            "align_self": null,
            "height": null,
            "min_height": null,
            "padding": null,
            "grid_auto_rows": null,
            "grid_gap": null,
            "max_width": null,
            "order": null,
            "_view_module_version": "1.2.0",
            "grid_template_areas": null,
            "object_position": null,
            "object_fit": null,
            "grid_auto_columns": null,
            "margin": null,
            "display": null,
            "left": null
          }
        },
        "370aa4e7178249e9814b2ebd308a6e4a": {
          "model_module": "@jupyter-widgets/controls",
          "model_name": "FloatProgressModel",
          "state": {
            "_view_name": "ProgressView",
            "style": "IPY_MODEL_d660904c7468421cb21b7a5a1537dcde",
            "_dom_classes": [],
            "description": "#1: 100%",
            "_model_name": "FloatProgressModel",
            "bar_style": "success",
            "max": 42,
            "_view_module": "@jupyter-widgets/controls",
            "_model_module_version": "1.5.0",
            "value": 42,
            "_view_count": null,
            "_view_module_version": "1.5.0",
            "orientation": "horizontal",
            "min": 0,
            "description_tooltip": null,
            "_model_module": "@jupyter-widgets/controls",
            "layout": "IPY_MODEL_d5fd222cbee645309cb6c5142d5ed6af"
          }
        },
        "f0854ea37a774792895e117b80273d21": {
          "model_module": "@jupyter-widgets/controls",
          "model_name": "HTMLModel",
          "state": {
            "_view_name": "HTMLView",
            "style": "IPY_MODEL_374b9006836345ec8118edd11792ccfe",
            "_dom_classes": [],
            "description": "",
            "_model_name": "HTMLModel",
            "placeholder": "​",
            "_view_module": "@jupyter-widgets/controls",
            "_model_module_version": "1.5.0",
            "value": " 42/42 [00:05&lt;00:00,  7.87ex/s]",
            "_view_count": null,
            "_view_module_version": "1.5.0",
            "description_tooltip": null,
            "_model_module": "@jupyter-widgets/controls",
            "layout": "IPY_MODEL_57c74860cdad4828b4f92bdcda9ff43e"
          }
        },
        "d660904c7468421cb21b7a5a1537dcde": {
          "model_module": "@jupyter-widgets/controls",
          "model_name": "ProgressStyleModel",
          "state": {
            "_view_name": "StyleView",
            "_model_name": "ProgressStyleModel",
            "description_width": "initial",
            "_view_module": "@jupyter-widgets/base",
            "_model_module_version": "1.5.0",
            "_view_count": null,
            "_view_module_version": "1.2.0",
            "bar_color": null,
            "_model_module": "@jupyter-widgets/controls"
          }
        },
        "d5fd222cbee645309cb6c5142d5ed6af": {
          "model_module": "@jupyter-widgets/base",
          "model_name": "LayoutModel",
          "state": {
            "_view_name": "LayoutView",
            "grid_template_rows": null,
            "right": null,
            "justify_content": null,
            "_view_module": "@jupyter-widgets/base",
            "overflow": null,
            "_model_module_version": "1.2.0",
            "_view_count": null,
            "flex_flow": null,
            "width": null,
            "min_width": null,
            "border": null,
            "align_items": null,
            "bottom": null,
            "_model_module": "@jupyter-widgets/base",
            "top": null,
            "grid_column": null,
            "overflow_y": null,
            "overflow_x": null,
            "grid_auto_flow": null,
            "grid_area": null,
            "grid_template_columns": null,
            "flex": null,
            "_model_name": "LayoutModel",
            "justify_items": null,
            "grid_row": null,
            "max_height": null,
            "align_content": null,
            "visibility": null,
            "align_self": null,
            "height": null,
            "min_height": null,
            "padding": null,
            "grid_auto_rows": null,
            "grid_gap": null,
            "max_width": null,
            "order": null,
            "_view_module_version": "1.2.0",
            "grid_template_areas": null,
            "object_position": null,
            "object_fit": null,
            "grid_auto_columns": null,
            "margin": null,
            "display": null,
            "left": null
          }
        },
        "374b9006836345ec8118edd11792ccfe": {
          "model_module": "@jupyter-widgets/controls",
          "model_name": "DescriptionStyleModel",
          "state": {
            "_view_name": "StyleView",
            "_model_name": "DescriptionStyleModel",
            "description_width": "",
            "_view_module": "@jupyter-widgets/base",
            "_model_module_version": "1.5.0",
            "_view_count": null,
            "_view_module_version": "1.2.0",
            "_model_module": "@jupyter-widgets/controls"
          }
        },
        "57c74860cdad4828b4f92bdcda9ff43e": {
          "model_module": "@jupyter-widgets/base",
          "model_name": "LayoutModel",
          "state": {
            "_view_name": "LayoutView",
            "grid_template_rows": null,
            "right": null,
            "justify_content": null,
            "_view_module": "@jupyter-widgets/base",
            "overflow": null,
            "_model_module_version": "1.2.0",
            "_view_count": null,
            "flex_flow": null,
            "width": null,
            "min_width": null,
            "border": null,
            "align_items": null,
            "bottom": null,
            "_model_module": "@jupyter-widgets/base",
            "top": null,
            "grid_column": null,
            "overflow_y": null,
            "overflow_x": null,
            "grid_auto_flow": null,
            "grid_area": null,
            "grid_template_columns": null,
            "flex": null,
            "_model_name": "LayoutModel",
            "justify_items": null,
            "grid_row": null,
            "max_height": null,
            "align_content": null,
            "visibility": null,
            "align_self": null,
            "height": null,
            "min_height": null,
            "padding": null,
            "grid_auto_rows": null,
            "grid_gap": null,
            "max_width": null,
            "order": null,
            "_view_module_version": "1.2.0",
            "grid_template_areas": null,
            "object_position": null,
            "object_fit": null,
            "grid_auto_columns": null,
            "margin": null,
            "display": null,
            "left": null
          }
        },
        "7f5f41de371c4e9ba465989fd8a46590": {
          "model_module": "@jupyter-widgets/controls",
          "model_name": "HBoxModel",
          "state": {
            "_view_name": "HBoxView",
            "_dom_classes": [],
            "_model_name": "HBoxModel",
            "_view_module": "@jupyter-widgets/controls",
            "_model_module_version": "1.5.0",
            "_view_count": null,
            "_view_module_version": "1.5.0",
            "box_style": "",
            "layout": "IPY_MODEL_1f3bcde4ae6f4be495ef6601d8aa6596",
            "_model_module": "@jupyter-widgets/controls",
            "children": [
              "IPY_MODEL_56b7b940bfe24bfcb3aed5c0634b0c97",
              "IPY_MODEL_ef4b4108726b46e9aa34ffa3b6d977f9"
            ]
          }
        },
        "1f3bcde4ae6f4be495ef6601d8aa6596": {
          "model_module": "@jupyter-widgets/base",
          "model_name": "LayoutModel",
          "state": {
            "_view_name": "LayoutView",
            "grid_template_rows": null,
            "right": null,
            "justify_content": null,
            "_view_module": "@jupyter-widgets/base",
            "overflow": null,
            "_model_module_version": "1.2.0",
            "_view_count": null,
            "flex_flow": null,
            "width": null,
            "min_width": null,
            "border": null,
            "align_items": null,
            "bottom": null,
            "_model_module": "@jupyter-widgets/base",
            "top": null,
            "grid_column": null,
            "overflow_y": null,
            "overflow_x": null,
            "grid_auto_flow": null,
            "grid_area": null,
            "grid_template_columns": null,
            "flex": null,
            "_model_name": "LayoutModel",
            "justify_items": null,
            "grid_row": null,
            "max_height": null,
            "align_content": null,
            "visibility": null,
            "align_self": null,
            "height": null,
            "min_height": null,
            "padding": null,
            "grid_auto_rows": null,
            "grid_gap": null,
            "max_width": null,
            "order": null,
            "_view_module_version": "1.2.0",
            "grid_template_areas": null,
            "object_position": null,
            "object_fit": null,
            "grid_auto_columns": null,
            "margin": null,
            "display": null,
            "left": null
          }
        },
        "56b7b940bfe24bfcb3aed5c0634b0c97": {
          "model_module": "@jupyter-widgets/controls",
          "model_name": "FloatProgressModel",
          "state": {
            "_view_name": "ProgressView",
            "style": "IPY_MODEL_d6ab689ce09547ceb89172702bbf98f9",
            "_dom_classes": [],
            "description": "#2: 100%",
            "_model_name": "FloatProgressModel",
            "bar_style": "success",
            "max": 42,
            "_view_module": "@jupyter-widgets/controls",
            "_model_module_version": "1.5.0",
            "value": 42,
            "_view_count": null,
            "_view_module_version": "1.5.0",
            "orientation": "horizontal",
            "min": 0,
            "description_tooltip": null,
            "_model_module": "@jupyter-widgets/controls",
            "layout": "IPY_MODEL_f20925e14b5f47a6a72d2d95a1a50ef2"
          }
        },
        "ef4b4108726b46e9aa34ffa3b6d977f9": {
          "model_module": "@jupyter-widgets/controls",
          "model_name": "HTMLModel",
          "state": {
            "_view_name": "HTMLView",
            "style": "IPY_MODEL_d8a6838dacea40d4b3bec892a34d3920",
            "_dom_classes": [],
            "description": "",
            "_model_name": "HTMLModel",
            "placeholder": "​",
            "_view_module": "@jupyter-widgets/controls",
            "_model_module_version": "1.5.0",
            "value": " 42/42 [00:05&lt;00:00,  7.02ex/s]",
            "_view_count": null,
            "_view_module_version": "1.5.0",
            "description_tooltip": null,
            "_model_module": "@jupyter-widgets/controls",
            "layout": "IPY_MODEL_5220e0c28d164bf8b24238513cddaa9d"
          }
        },
        "d6ab689ce09547ceb89172702bbf98f9": {
          "model_module": "@jupyter-widgets/controls",
          "model_name": "ProgressStyleModel",
          "state": {
            "_view_name": "StyleView",
            "_model_name": "ProgressStyleModel",
            "description_width": "initial",
            "_view_module": "@jupyter-widgets/base",
            "_model_module_version": "1.5.0",
            "_view_count": null,
            "_view_module_version": "1.2.0",
            "bar_color": null,
            "_model_module": "@jupyter-widgets/controls"
          }
        },
        "f20925e14b5f47a6a72d2d95a1a50ef2": {
          "model_module": "@jupyter-widgets/base",
          "model_name": "LayoutModel",
          "state": {
            "_view_name": "LayoutView",
            "grid_template_rows": null,
            "right": null,
            "justify_content": null,
            "_view_module": "@jupyter-widgets/base",
            "overflow": null,
            "_model_module_version": "1.2.0",
            "_view_count": null,
            "flex_flow": null,
            "width": null,
            "min_width": null,
            "border": null,
            "align_items": null,
            "bottom": null,
            "_model_module": "@jupyter-widgets/base",
            "top": null,
            "grid_column": null,
            "overflow_y": null,
            "overflow_x": null,
            "grid_auto_flow": null,
            "grid_area": null,
            "grid_template_columns": null,
            "flex": null,
            "_model_name": "LayoutModel",
            "justify_items": null,
            "grid_row": null,
            "max_height": null,
            "align_content": null,
            "visibility": null,
            "align_self": null,
            "height": null,
            "min_height": null,
            "padding": null,
            "grid_auto_rows": null,
            "grid_gap": null,
            "max_width": null,
            "order": null,
            "_view_module_version": "1.2.0",
            "grid_template_areas": null,
            "object_position": null,
            "object_fit": null,
            "grid_auto_columns": null,
            "margin": null,
            "display": null,
            "left": null
          }
        },
        "d8a6838dacea40d4b3bec892a34d3920": {
          "model_module": "@jupyter-widgets/controls",
          "model_name": "DescriptionStyleModel",
          "state": {
            "_view_name": "StyleView",
            "_model_name": "DescriptionStyleModel",
            "description_width": "",
            "_view_module": "@jupyter-widgets/base",
            "_model_module_version": "1.5.0",
            "_view_count": null,
            "_view_module_version": "1.2.0",
            "_model_module": "@jupyter-widgets/controls"
          }
        },
        "5220e0c28d164bf8b24238513cddaa9d": {
          "model_module": "@jupyter-widgets/base",
          "model_name": "LayoutModel",
          "state": {
            "_view_name": "LayoutView",
            "grid_template_rows": null,
            "right": null,
            "justify_content": null,
            "_view_module": "@jupyter-widgets/base",
            "overflow": null,
            "_model_module_version": "1.2.0",
            "_view_count": null,
            "flex_flow": null,
            "width": null,
            "min_width": null,
            "border": null,
            "align_items": null,
            "bottom": null,
            "_model_module": "@jupyter-widgets/base",
            "top": null,
            "grid_column": null,
            "overflow_y": null,
            "overflow_x": null,
            "grid_auto_flow": null,
            "grid_area": null,
            "grid_template_columns": null,
            "flex": null,
            "_model_name": "LayoutModel",
            "justify_items": null,
            "grid_row": null,
            "max_height": null,
            "align_content": null,
            "visibility": null,
            "align_self": null,
            "height": null,
            "min_height": null,
            "padding": null,
            "grid_auto_rows": null,
            "grid_gap": null,
            "max_width": null,
            "order": null,
            "_view_module_version": "1.2.0",
            "grid_template_areas": null,
            "object_position": null,
            "object_fit": null,
            "grid_auto_columns": null,
            "margin": null,
            "display": null,
            "left": null
          }
        },
        "03b622e167bf4fbd81f3582210c5f1c3": {
          "model_module": "@jupyter-widgets/controls",
          "model_name": "HBoxModel",
          "state": {
            "_view_name": "HBoxView",
            "_dom_classes": [],
            "_model_name": "HBoxModel",
            "_view_module": "@jupyter-widgets/controls",
            "_model_module_version": "1.5.0",
            "_view_count": null,
            "_view_module_version": "1.5.0",
            "box_style": "",
            "layout": "IPY_MODEL_850a0e73204e4df2b1d9079208b4988d",
            "_model_module": "@jupyter-widgets/controls",
            "children": [
              "IPY_MODEL_8c7970ce6a4d499194b55f8b852205cd",
              "IPY_MODEL_97347906652e405aac2b5f7f21da071d"
            ]
          }
        },
        "850a0e73204e4df2b1d9079208b4988d": {
          "model_module": "@jupyter-widgets/base",
          "model_name": "LayoutModel",
          "state": {
            "_view_name": "LayoutView",
            "grid_template_rows": null,
            "right": null,
            "justify_content": null,
            "_view_module": "@jupyter-widgets/base",
            "overflow": null,
            "_model_module_version": "1.2.0",
            "_view_count": null,
            "flex_flow": null,
            "width": null,
            "min_width": null,
            "border": null,
            "align_items": null,
            "bottom": null,
            "_model_module": "@jupyter-widgets/base",
            "top": null,
            "grid_column": null,
            "overflow_y": null,
            "overflow_x": null,
            "grid_auto_flow": null,
            "grid_area": null,
            "grid_template_columns": null,
            "flex": null,
            "_model_name": "LayoutModel",
            "justify_items": null,
            "grid_row": null,
            "max_height": null,
            "align_content": null,
            "visibility": null,
            "align_self": null,
            "height": null,
            "min_height": null,
            "padding": null,
            "grid_auto_rows": null,
            "grid_gap": null,
            "max_width": null,
            "order": null,
            "_view_module_version": "1.2.0",
            "grid_template_areas": null,
            "object_position": null,
            "object_fit": null,
            "grid_auto_columns": null,
            "margin": null,
            "display": null,
            "left": null
          }
        },
        "8c7970ce6a4d499194b55f8b852205cd": {
          "model_module": "@jupyter-widgets/controls",
          "model_name": "FloatProgressModel",
          "state": {
            "_view_name": "ProgressView",
            "style": "IPY_MODEL_eef68f4a1daf43bfba211df72496b473",
            "_dom_classes": [],
            "description": "#3: 100%",
            "_model_name": "FloatProgressModel",
            "bar_style": "success",
            "max": 42,
            "_view_module": "@jupyter-widgets/controls",
            "_model_module_version": "1.5.0",
            "value": 42,
            "_view_count": null,
            "_view_module_version": "1.5.0",
            "orientation": "horizontal",
            "min": 0,
            "description_tooltip": null,
            "_model_module": "@jupyter-widgets/controls",
            "layout": "IPY_MODEL_cf233cf61904428dbe86966d1ba85a8f"
          }
        },
        "97347906652e405aac2b5f7f21da071d": {
          "model_module": "@jupyter-widgets/controls",
          "model_name": "HTMLModel",
          "state": {
            "_view_name": "HTMLView",
            "style": "IPY_MODEL_db84d65aa3be40ceae2f97b0484b9003",
            "_dom_classes": [],
            "description": "",
            "_model_name": "HTMLModel",
            "placeholder": "​",
            "_view_module": "@jupyter-widgets/controls",
            "_model_module_version": "1.5.0",
            "value": " 42/42 [00:05&lt;00:00,  7.68ex/s]",
            "_view_count": null,
            "_view_module_version": "1.5.0",
            "description_tooltip": null,
            "_model_module": "@jupyter-widgets/controls",
            "layout": "IPY_MODEL_71038e3d64bf4f1f87aead8b7350219b"
          }
        },
        "eef68f4a1daf43bfba211df72496b473": {
          "model_module": "@jupyter-widgets/controls",
          "model_name": "ProgressStyleModel",
          "state": {
            "_view_name": "StyleView",
            "_model_name": "ProgressStyleModel",
            "description_width": "initial",
            "_view_module": "@jupyter-widgets/base",
            "_model_module_version": "1.5.0",
            "_view_count": null,
            "_view_module_version": "1.2.0",
            "bar_color": null,
            "_model_module": "@jupyter-widgets/controls"
          }
        },
        "cf233cf61904428dbe86966d1ba85a8f": {
          "model_module": "@jupyter-widgets/base",
          "model_name": "LayoutModel",
          "state": {
            "_view_name": "LayoutView",
            "grid_template_rows": null,
            "right": null,
            "justify_content": null,
            "_view_module": "@jupyter-widgets/base",
            "overflow": null,
            "_model_module_version": "1.2.0",
            "_view_count": null,
            "flex_flow": null,
            "width": null,
            "min_width": null,
            "border": null,
            "align_items": null,
            "bottom": null,
            "_model_module": "@jupyter-widgets/base",
            "top": null,
            "grid_column": null,
            "overflow_y": null,
            "overflow_x": null,
            "grid_auto_flow": null,
            "grid_area": null,
            "grid_template_columns": null,
            "flex": null,
            "_model_name": "LayoutModel",
            "justify_items": null,
            "grid_row": null,
            "max_height": null,
            "align_content": null,
            "visibility": null,
            "align_self": null,
            "height": null,
            "min_height": null,
            "padding": null,
            "grid_auto_rows": null,
            "grid_gap": null,
            "max_width": null,
            "order": null,
            "_view_module_version": "1.2.0",
            "grid_template_areas": null,
            "object_position": null,
            "object_fit": null,
            "grid_auto_columns": null,
            "margin": null,
            "display": null,
            "left": null
          }
        },
        "db84d65aa3be40ceae2f97b0484b9003": {
          "model_module": "@jupyter-widgets/controls",
          "model_name": "DescriptionStyleModel",
          "state": {
            "_view_name": "StyleView",
            "_model_name": "DescriptionStyleModel",
            "description_width": "",
            "_view_module": "@jupyter-widgets/base",
            "_model_module_version": "1.5.0",
            "_view_count": null,
            "_view_module_version": "1.2.0",
            "_model_module": "@jupyter-widgets/controls"
          }
        },
        "71038e3d64bf4f1f87aead8b7350219b": {
          "model_module": "@jupyter-widgets/base",
          "model_name": "LayoutModel",
          "state": {
            "_view_name": "LayoutView",
            "grid_template_rows": null,
            "right": null,
            "justify_content": null,
            "_view_module": "@jupyter-widgets/base",
            "overflow": null,
            "_model_module_version": "1.2.0",
            "_view_count": null,
            "flex_flow": null,
            "width": null,
            "min_width": null,
            "border": null,
            "align_items": null,
            "bottom": null,
            "_model_module": "@jupyter-widgets/base",
            "top": null,
            "grid_column": null,
            "overflow_y": null,
            "overflow_x": null,
            "grid_auto_flow": null,
            "grid_area": null,
            "grid_template_columns": null,
            "flex": null,
            "_model_name": "LayoutModel",
            "justify_items": null,
            "grid_row": null,
            "max_height": null,
            "align_content": null,
            "visibility": null,
            "align_self": null,
            "height": null,
            "min_height": null,
            "padding": null,
            "grid_auto_rows": null,
            "grid_gap": null,
            "max_width": null,
            "order": null,
            "_view_module_version": "1.2.0",
            "grid_template_areas": null,
            "object_position": null,
            "object_fit": null,
            "grid_auto_columns": null,
            "margin": null,
            "display": null,
            "left": null
          }
        },
        "c6b6ffe0259a4d3bad4f2e4709203e92": {
          "model_module": "@jupyter-widgets/controls",
          "model_name": "HBoxModel",
          "state": {
            "_view_name": "HBoxView",
            "_dom_classes": [],
            "_model_name": "HBoxModel",
            "_view_module": "@jupyter-widgets/controls",
            "_model_module_version": "1.5.0",
            "_view_count": null,
            "_view_module_version": "1.5.0",
            "box_style": "",
            "layout": "IPY_MODEL_9e257566c5104ef8abead39246e96ecc",
            "_model_module": "@jupyter-widgets/controls",
            "children": [
              "IPY_MODEL_d02778179e7448fe80990c753bd65872",
              "IPY_MODEL_78748184f7b94ef5be60f2ad79a89e9b"
            ]
          }
        },
        "9e257566c5104ef8abead39246e96ecc": {
          "model_module": "@jupyter-widgets/base",
          "model_name": "LayoutModel",
          "state": {
            "_view_name": "LayoutView",
            "grid_template_rows": null,
            "right": null,
            "justify_content": null,
            "_view_module": "@jupyter-widgets/base",
            "overflow": null,
            "_model_module_version": "1.2.0",
            "_view_count": null,
            "flex_flow": null,
            "width": null,
            "min_width": null,
            "border": null,
            "align_items": null,
            "bottom": null,
            "_model_module": "@jupyter-widgets/base",
            "top": null,
            "grid_column": null,
            "overflow_y": null,
            "overflow_x": null,
            "grid_auto_flow": null,
            "grid_area": null,
            "grid_template_columns": null,
            "flex": null,
            "_model_name": "LayoutModel",
            "justify_items": null,
            "grid_row": null,
            "max_height": null,
            "align_content": null,
            "visibility": null,
            "align_self": null,
            "height": null,
            "min_height": null,
            "padding": null,
            "grid_auto_rows": null,
            "grid_gap": null,
            "max_width": null,
            "order": null,
            "_view_module_version": "1.2.0",
            "grid_template_areas": null,
            "object_position": null,
            "object_fit": null,
            "grid_auto_columns": null,
            "margin": null,
            "display": null,
            "left": null
          }
        },
        "d02778179e7448fe80990c753bd65872": {
          "model_module": "@jupyter-widgets/controls",
          "model_name": "FloatProgressModel",
          "state": {
            "_view_name": "ProgressView",
            "style": "IPY_MODEL_3d8fe2e3afdb403a979957564476e1dc",
            "_dom_classes": [],
            "description": "#0: 100%",
            "_model_name": "FloatProgressModel",
            "bar_style": "success",
            "max": 47,
            "_view_module": "@jupyter-widgets/controls",
            "_model_module_version": "1.5.0",
            "value": 47,
            "_view_count": null,
            "_view_module_version": "1.5.0",
            "orientation": "horizontal",
            "min": 0,
            "description_tooltip": null,
            "_model_module": "@jupyter-widgets/controls",
            "layout": "IPY_MODEL_5d17e2d1270f4289be245f11bf48abf0"
          }
        },
        "78748184f7b94ef5be60f2ad79a89e9b": {
          "model_module": "@jupyter-widgets/controls",
          "model_name": "HTMLModel",
          "state": {
            "_view_name": "HTMLView",
            "style": "IPY_MODEL_35baa00c878342318f1dc072befe7892",
            "_dom_classes": [],
            "description": "",
            "_model_name": "HTMLModel",
            "placeholder": "​",
            "_view_module": "@jupyter-widgets/controls",
            "_model_module_version": "1.5.0",
            "value": " 47/47 [00:23&lt;00:00,  1.97ba/s]",
            "_view_count": null,
            "_view_module_version": "1.5.0",
            "description_tooltip": null,
            "_model_module": "@jupyter-widgets/controls",
            "layout": "IPY_MODEL_75ae439405ed4b4986e3cd1e92759dce"
          }
        },
        "3d8fe2e3afdb403a979957564476e1dc": {
          "model_module": "@jupyter-widgets/controls",
          "model_name": "ProgressStyleModel",
          "state": {
            "_view_name": "StyleView",
            "_model_name": "ProgressStyleModel",
            "description_width": "initial",
            "_view_module": "@jupyter-widgets/base",
            "_model_module_version": "1.5.0",
            "_view_count": null,
            "_view_module_version": "1.2.0",
            "bar_color": null,
            "_model_module": "@jupyter-widgets/controls"
          }
        },
        "5d17e2d1270f4289be245f11bf48abf0": {
          "model_module": "@jupyter-widgets/base",
          "model_name": "LayoutModel",
          "state": {
            "_view_name": "LayoutView",
            "grid_template_rows": null,
            "right": null,
            "justify_content": null,
            "_view_module": "@jupyter-widgets/base",
            "overflow": null,
            "_model_module_version": "1.2.0",
            "_view_count": null,
            "flex_flow": null,
            "width": null,
            "min_width": null,
            "border": null,
            "align_items": null,
            "bottom": null,
            "_model_module": "@jupyter-widgets/base",
            "top": null,
            "grid_column": null,
            "overflow_y": null,
            "overflow_x": null,
            "grid_auto_flow": null,
            "grid_area": null,
            "grid_template_columns": null,
            "flex": null,
            "_model_name": "LayoutModel",
            "justify_items": null,
            "grid_row": null,
            "max_height": null,
            "align_content": null,
            "visibility": null,
            "align_self": null,
            "height": null,
            "min_height": null,
            "padding": null,
            "grid_auto_rows": null,
            "grid_gap": null,
            "max_width": null,
            "order": null,
            "_view_module_version": "1.2.0",
            "grid_template_areas": null,
            "object_position": null,
            "object_fit": null,
            "grid_auto_columns": null,
            "margin": null,
            "display": null,
            "left": null
          }
        },
        "35baa00c878342318f1dc072befe7892": {
          "model_module": "@jupyter-widgets/controls",
          "model_name": "DescriptionStyleModel",
          "state": {
            "_view_name": "StyleView",
            "_model_name": "DescriptionStyleModel",
            "description_width": "",
            "_view_module": "@jupyter-widgets/base",
            "_model_module_version": "1.5.0",
            "_view_count": null,
            "_view_module_version": "1.2.0",
            "_model_module": "@jupyter-widgets/controls"
          }
        },
        "75ae439405ed4b4986e3cd1e92759dce": {
          "model_module": "@jupyter-widgets/base",
          "model_name": "LayoutModel",
          "state": {
            "_view_name": "LayoutView",
            "grid_template_rows": null,
            "right": null,
            "justify_content": null,
            "_view_module": "@jupyter-widgets/base",
            "overflow": null,
            "_model_module_version": "1.2.0",
            "_view_count": null,
            "flex_flow": null,
            "width": null,
            "min_width": null,
            "border": null,
            "align_items": null,
            "bottom": null,
            "_model_module": "@jupyter-widgets/base",
            "top": null,
            "grid_column": null,
            "overflow_y": null,
            "overflow_x": null,
            "grid_auto_flow": null,
            "grid_area": null,
            "grid_template_columns": null,
            "flex": null,
            "_model_name": "LayoutModel",
            "justify_items": null,
            "grid_row": null,
            "max_height": null,
            "align_content": null,
            "visibility": null,
            "align_self": null,
            "height": null,
            "min_height": null,
            "padding": null,
            "grid_auto_rows": null,
            "grid_gap": null,
            "max_width": null,
            "order": null,
            "_view_module_version": "1.2.0",
            "grid_template_areas": null,
            "object_position": null,
            "object_fit": null,
            "grid_auto_columns": null,
            "margin": null,
            "display": null,
            "left": null
          }
        },
        "6a3fc40e27774a1ba70e05f6c3c0baad": {
          "model_module": "@jupyter-widgets/controls",
          "model_name": "HBoxModel",
          "state": {
            "_view_name": "HBoxView",
            "_dom_classes": [],
            "_model_name": "HBoxModel",
            "_view_module": "@jupyter-widgets/controls",
            "_model_module_version": "1.5.0",
            "_view_count": null,
            "_view_module_version": "1.5.0",
            "box_style": "",
            "layout": "IPY_MODEL_8a40e5ec1c7c488fa9c465b7b3e03efd",
            "_model_module": "@jupyter-widgets/controls",
            "children": [
              "IPY_MODEL_58c73aa0c04b40c38c6257964d7d1bc6",
              "IPY_MODEL_76d78701b6bd49178c69cd7d450b4bd3"
            ]
          }
        },
        "8a40e5ec1c7c488fa9c465b7b3e03efd": {
          "model_module": "@jupyter-widgets/base",
          "model_name": "LayoutModel",
          "state": {
            "_view_name": "LayoutView",
            "grid_template_rows": null,
            "right": null,
            "justify_content": null,
            "_view_module": "@jupyter-widgets/base",
            "overflow": null,
            "_model_module_version": "1.2.0",
            "_view_count": null,
            "flex_flow": null,
            "width": null,
            "min_width": null,
            "border": null,
            "align_items": null,
            "bottom": null,
            "_model_module": "@jupyter-widgets/base",
            "top": null,
            "grid_column": null,
            "overflow_y": null,
            "overflow_x": null,
            "grid_auto_flow": null,
            "grid_area": null,
            "grid_template_columns": null,
            "flex": null,
            "_model_name": "LayoutModel",
            "justify_items": null,
            "grid_row": null,
            "max_height": null,
            "align_content": null,
            "visibility": null,
            "align_self": null,
            "height": null,
            "min_height": null,
            "padding": null,
            "grid_auto_rows": null,
            "grid_gap": null,
            "max_width": null,
            "order": null,
            "_view_module_version": "1.2.0",
            "grid_template_areas": null,
            "object_position": null,
            "object_fit": null,
            "grid_auto_columns": null,
            "margin": null,
            "display": null,
            "left": null
          }
        },
        "58c73aa0c04b40c38c6257964d7d1bc6": {
          "model_module": "@jupyter-widgets/controls",
          "model_name": "FloatProgressModel",
          "state": {
            "_view_name": "ProgressView",
            "style": "IPY_MODEL_52507d57ecae4c1380143e7e969716dc",
            "_dom_classes": [],
            "description": "#1: 100%",
            "_model_name": "FloatProgressModel",
            "bar_style": "success",
            "max": 47,
            "_view_module": "@jupyter-widgets/controls",
            "_model_module_version": "1.5.0",
            "value": 47,
            "_view_count": null,
            "_view_module_version": "1.5.0",
            "orientation": "horizontal",
            "min": 0,
            "description_tooltip": null,
            "_model_module": "@jupyter-widgets/controls",
            "layout": "IPY_MODEL_325a977d32314c699e8d36e8c01699d3"
          }
        },
        "76d78701b6bd49178c69cd7d450b4bd3": {
          "model_module": "@jupyter-widgets/controls",
          "model_name": "HTMLModel",
          "state": {
            "_view_name": "HTMLView",
            "style": "IPY_MODEL_3564d4bf97b24a8fa22aedbc2d9132e5",
            "_dom_classes": [],
            "description": "",
            "_model_name": "HTMLModel",
            "placeholder": "​",
            "_view_module": "@jupyter-widgets/controls",
            "_model_module_version": "1.5.0",
            "value": " 47/47 [00:24&lt;00:00,  1.89ba/s]",
            "_view_count": null,
            "_view_module_version": "1.5.0",
            "description_tooltip": null,
            "_model_module": "@jupyter-widgets/controls",
            "layout": "IPY_MODEL_659cfcb1af8640fabdbc8d1ec9c40043"
          }
        },
        "52507d57ecae4c1380143e7e969716dc": {
          "model_module": "@jupyter-widgets/controls",
          "model_name": "ProgressStyleModel",
          "state": {
            "_view_name": "StyleView",
            "_model_name": "ProgressStyleModel",
            "description_width": "initial",
            "_view_module": "@jupyter-widgets/base",
            "_model_module_version": "1.5.0",
            "_view_count": null,
            "_view_module_version": "1.2.0",
            "bar_color": null,
            "_model_module": "@jupyter-widgets/controls"
          }
        },
        "325a977d32314c699e8d36e8c01699d3": {
          "model_module": "@jupyter-widgets/base",
          "model_name": "LayoutModel",
          "state": {
            "_view_name": "LayoutView",
            "grid_template_rows": null,
            "right": null,
            "justify_content": null,
            "_view_module": "@jupyter-widgets/base",
            "overflow": null,
            "_model_module_version": "1.2.0",
            "_view_count": null,
            "flex_flow": null,
            "width": null,
            "min_width": null,
            "border": null,
            "align_items": null,
            "bottom": null,
            "_model_module": "@jupyter-widgets/base",
            "top": null,
            "grid_column": null,
            "overflow_y": null,
            "overflow_x": null,
            "grid_auto_flow": null,
            "grid_area": null,
            "grid_template_columns": null,
            "flex": null,
            "_model_name": "LayoutModel",
            "justify_items": null,
            "grid_row": null,
            "max_height": null,
            "align_content": null,
            "visibility": null,
            "align_self": null,
            "height": null,
            "min_height": null,
            "padding": null,
            "grid_auto_rows": null,
            "grid_gap": null,
            "max_width": null,
            "order": null,
            "_view_module_version": "1.2.0",
            "grid_template_areas": null,
            "object_position": null,
            "object_fit": null,
            "grid_auto_columns": null,
            "margin": null,
            "display": null,
            "left": null
          }
        },
        "3564d4bf97b24a8fa22aedbc2d9132e5": {
          "model_module": "@jupyter-widgets/controls",
          "model_name": "DescriptionStyleModel",
          "state": {
            "_view_name": "StyleView",
            "_model_name": "DescriptionStyleModel",
            "description_width": "",
            "_view_module": "@jupyter-widgets/base",
            "_model_module_version": "1.5.0",
            "_view_count": null,
            "_view_module_version": "1.2.0",
            "_model_module": "@jupyter-widgets/controls"
          }
        },
        "659cfcb1af8640fabdbc8d1ec9c40043": {
          "model_module": "@jupyter-widgets/base",
          "model_name": "LayoutModel",
          "state": {
            "_view_name": "LayoutView",
            "grid_template_rows": null,
            "right": null,
            "justify_content": null,
            "_view_module": "@jupyter-widgets/base",
            "overflow": null,
            "_model_module_version": "1.2.0",
            "_view_count": null,
            "flex_flow": null,
            "width": null,
            "min_width": null,
            "border": null,
            "align_items": null,
            "bottom": null,
            "_model_module": "@jupyter-widgets/base",
            "top": null,
            "grid_column": null,
            "overflow_y": null,
            "overflow_x": null,
            "grid_auto_flow": null,
            "grid_area": null,
            "grid_template_columns": null,
            "flex": null,
            "_model_name": "LayoutModel",
            "justify_items": null,
            "grid_row": null,
            "max_height": null,
            "align_content": null,
            "visibility": null,
            "align_self": null,
            "height": null,
            "min_height": null,
            "padding": null,
            "grid_auto_rows": null,
            "grid_gap": null,
            "max_width": null,
            "order": null,
            "_view_module_version": "1.2.0",
            "grid_template_areas": null,
            "object_position": null,
            "object_fit": null,
            "grid_auto_columns": null,
            "margin": null,
            "display": null,
            "left": null
          }
        },
        "b4a003dcc029428fa73d20b36a8f1b0a": {
          "model_module": "@jupyter-widgets/controls",
          "model_name": "HBoxModel",
          "state": {
            "_view_name": "HBoxView",
            "_dom_classes": [],
            "_model_name": "HBoxModel",
            "_view_module": "@jupyter-widgets/controls",
            "_model_module_version": "1.5.0",
            "_view_count": null,
            "_view_module_version": "1.5.0",
            "box_style": "",
            "layout": "IPY_MODEL_2a930f5ca0814eeb8e08ed8b689397f7",
            "_model_module": "@jupyter-widgets/controls",
            "children": [
              "IPY_MODEL_4f81c6093ecf45e1818ba0a226c85b24",
              "IPY_MODEL_6c5c3bc53d0d4d96ac14af55fc6ef03a"
            ]
          }
        },
        "2a930f5ca0814eeb8e08ed8b689397f7": {
          "model_module": "@jupyter-widgets/base",
          "model_name": "LayoutModel",
          "state": {
            "_view_name": "LayoutView",
            "grid_template_rows": null,
            "right": null,
            "justify_content": null,
            "_view_module": "@jupyter-widgets/base",
            "overflow": null,
            "_model_module_version": "1.2.0",
            "_view_count": null,
            "flex_flow": null,
            "width": null,
            "min_width": null,
            "border": null,
            "align_items": null,
            "bottom": null,
            "_model_module": "@jupyter-widgets/base",
            "top": null,
            "grid_column": null,
            "overflow_y": null,
            "overflow_x": null,
            "grid_auto_flow": null,
            "grid_area": null,
            "grid_template_columns": null,
            "flex": null,
            "_model_name": "LayoutModel",
            "justify_items": null,
            "grid_row": null,
            "max_height": null,
            "align_content": null,
            "visibility": null,
            "align_self": null,
            "height": null,
            "min_height": null,
            "padding": null,
            "grid_auto_rows": null,
            "grid_gap": null,
            "max_width": null,
            "order": null,
            "_view_module_version": "1.2.0",
            "grid_template_areas": null,
            "object_position": null,
            "object_fit": null,
            "grid_auto_columns": null,
            "margin": null,
            "display": null,
            "left": null
          }
        },
        "4f81c6093ecf45e1818ba0a226c85b24": {
          "model_module": "@jupyter-widgets/controls",
          "model_name": "FloatProgressModel",
          "state": {
            "_view_name": "ProgressView",
            "style": "IPY_MODEL_1aa3058e7e1940ffaaadbca8c5ebf183",
            "_dom_classes": [],
            "description": "#2: 100%",
            "_model_name": "FloatProgressModel",
            "bar_style": "success",
            "max": 47,
            "_view_module": "@jupyter-widgets/controls",
            "_model_module_version": "1.5.0",
            "value": 47,
            "_view_count": null,
            "_view_module_version": "1.5.0",
            "orientation": "horizontal",
            "min": 0,
            "description_tooltip": null,
            "_model_module": "@jupyter-widgets/controls",
            "layout": "IPY_MODEL_4a781c67214a4c2994feebce3332f1cc"
          }
        },
        "6c5c3bc53d0d4d96ac14af55fc6ef03a": {
          "model_module": "@jupyter-widgets/controls",
          "model_name": "HTMLModel",
          "state": {
            "_view_name": "HTMLView",
            "style": "IPY_MODEL_23b22b3e7b1c4e79896a207cf6cd4411",
            "_dom_classes": [],
            "description": "",
            "_model_name": "HTMLModel",
            "placeholder": "​",
            "_view_module": "@jupyter-widgets/controls",
            "_model_module_version": "1.5.0",
            "value": " 47/47 [00:24&lt;00:00,  1.92ba/s]",
            "_view_count": null,
            "_view_module_version": "1.5.0",
            "description_tooltip": null,
            "_model_module": "@jupyter-widgets/controls",
            "layout": "IPY_MODEL_d41428ab64a04d659efa8e0f19c0315c"
          }
        },
        "1aa3058e7e1940ffaaadbca8c5ebf183": {
          "model_module": "@jupyter-widgets/controls",
          "model_name": "ProgressStyleModel",
          "state": {
            "_view_name": "StyleView",
            "_model_name": "ProgressStyleModel",
            "description_width": "initial",
            "_view_module": "@jupyter-widgets/base",
            "_model_module_version": "1.5.0",
            "_view_count": null,
            "_view_module_version": "1.2.0",
            "bar_color": null,
            "_model_module": "@jupyter-widgets/controls"
          }
        },
        "4a781c67214a4c2994feebce3332f1cc": {
          "model_module": "@jupyter-widgets/base",
          "model_name": "LayoutModel",
          "state": {
            "_view_name": "LayoutView",
            "grid_template_rows": null,
            "right": null,
            "justify_content": null,
            "_view_module": "@jupyter-widgets/base",
            "overflow": null,
            "_model_module_version": "1.2.0",
            "_view_count": null,
            "flex_flow": null,
            "width": null,
            "min_width": null,
            "border": null,
            "align_items": null,
            "bottom": null,
            "_model_module": "@jupyter-widgets/base",
            "top": null,
            "grid_column": null,
            "overflow_y": null,
            "overflow_x": null,
            "grid_auto_flow": null,
            "grid_area": null,
            "grid_template_columns": null,
            "flex": null,
            "_model_name": "LayoutModel",
            "justify_items": null,
            "grid_row": null,
            "max_height": null,
            "align_content": null,
            "visibility": null,
            "align_self": null,
            "height": null,
            "min_height": null,
            "padding": null,
            "grid_auto_rows": null,
            "grid_gap": null,
            "max_width": null,
            "order": null,
            "_view_module_version": "1.2.0",
            "grid_template_areas": null,
            "object_position": null,
            "object_fit": null,
            "grid_auto_columns": null,
            "margin": null,
            "display": null,
            "left": null
          }
        },
        "23b22b3e7b1c4e79896a207cf6cd4411": {
          "model_module": "@jupyter-widgets/controls",
          "model_name": "DescriptionStyleModel",
          "state": {
            "_view_name": "StyleView",
            "_model_name": "DescriptionStyleModel",
            "description_width": "",
            "_view_module": "@jupyter-widgets/base",
            "_model_module_version": "1.5.0",
            "_view_count": null,
            "_view_module_version": "1.2.0",
            "_model_module": "@jupyter-widgets/controls"
          }
        },
        "d41428ab64a04d659efa8e0f19c0315c": {
          "model_module": "@jupyter-widgets/base",
          "model_name": "LayoutModel",
          "state": {
            "_view_name": "LayoutView",
            "grid_template_rows": null,
            "right": null,
            "justify_content": null,
            "_view_module": "@jupyter-widgets/base",
            "overflow": null,
            "_model_module_version": "1.2.0",
            "_view_count": null,
            "flex_flow": null,
            "width": null,
            "min_width": null,
            "border": null,
            "align_items": null,
            "bottom": null,
            "_model_module": "@jupyter-widgets/base",
            "top": null,
            "grid_column": null,
            "overflow_y": null,
            "overflow_x": null,
            "grid_auto_flow": null,
            "grid_area": null,
            "grid_template_columns": null,
            "flex": null,
            "_model_name": "LayoutModel",
            "justify_items": null,
            "grid_row": null,
            "max_height": null,
            "align_content": null,
            "visibility": null,
            "align_self": null,
            "height": null,
            "min_height": null,
            "padding": null,
            "grid_auto_rows": null,
            "grid_gap": null,
            "max_width": null,
            "order": null,
            "_view_module_version": "1.2.0",
            "grid_template_areas": null,
            "object_position": null,
            "object_fit": null,
            "grid_auto_columns": null,
            "margin": null,
            "display": null,
            "left": null
          }
        },
        "ad4671a9583847afa751ed8b2583a7b8": {
          "model_module": "@jupyter-widgets/controls",
          "model_name": "HBoxModel",
          "state": {
            "_view_name": "HBoxView",
            "_dom_classes": [],
            "_model_name": "HBoxModel",
            "_view_module": "@jupyter-widgets/controls",
            "_model_module_version": "1.5.0",
            "_view_count": null,
            "_view_module_version": "1.5.0",
            "box_style": "",
            "layout": "IPY_MODEL_4225133efd29484fa3136b3d7f535f07",
            "_model_module": "@jupyter-widgets/controls",
            "children": [
              "IPY_MODEL_a34af1d9ec9141f38efcea28f01585bf",
              "IPY_MODEL_ed1d68f5465349888fc6008b93a4deb6"
            ]
          }
        },
        "4225133efd29484fa3136b3d7f535f07": {
          "model_module": "@jupyter-widgets/base",
          "model_name": "LayoutModel",
          "state": {
            "_view_name": "LayoutView",
            "grid_template_rows": null,
            "right": null,
            "justify_content": null,
            "_view_module": "@jupyter-widgets/base",
            "overflow": null,
            "_model_module_version": "1.2.0",
            "_view_count": null,
            "flex_flow": null,
            "width": null,
            "min_width": null,
            "border": null,
            "align_items": null,
            "bottom": null,
            "_model_module": "@jupyter-widgets/base",
            "top": null,
            "grid_column": null,
            "overflow_y": null,
            "overflow_x": null,
            "grid_auto_flow": null,
            "grid_area": null,
            "grid_template_columns": null,
            "flex": null,
            "_model_name": "LayoutModel",
            "justify_items": null,
            "grid_row": null,
            "max_height": null,
            "align_content": null,
            "visibility": null,
            "align_self": null,
            "height": null,
            "min_height": null,
            "padding": null,
            "grid_auto_rows": null,
            "grid_gap": null,
            "max_width": null,
            "order": null,
            "_view_module_version": "1.2.0",
            "grid_template_areas": null,
            "object_position": null,
            "object_fit": null,
            "grid_auto_columns": null,
            "margin": null,
            "display": null,
            "left": null
          }
        },
        "a34af1d9ec9141f38efcea28f01585bf": {
          "model_module": "@jupyter-widgets/controls",
          "model_name": "FloatProgressModel",
          "state": {
            "_view_name": "ProgressView",
            "style": "IPY_MODEL_b446a114b0e44fd0abdbd359a8d8f403",
            "_dom_classes": [],
            "description": "#3: 100%",
            "_model_name": "FloatProgressModel",
            "bar_style": "success",
            "max": 47,
            "_view_module": "@jupyter-widgets/controls",
            "_model_module_version": "1.5.0",
            "value": 47,
            "_view_count": null,
            "_view_module_version": "1.5.0",
            "orientation": "horizontal",
            "min": 0,
            "description_tooltip": null,
            "_model_module": "@jupyter-widgets/controls",
            "layout": "IPY_MODEL_3c2ded0e09e84e39a7cc395248675efa"
          }
        },
        "ed1d68f5465349888fc6008b93a4deb6": {
          "model_module": "@jupyter-widgets/controls",
          "model_name": "HTMLModel",
          "state": {
            "_view_name": "HTMLView",
            "style": "IPY_MODEL_a746527c28a44a3399ecc7b2552ee764",
            "_dom_classes": [],
            "description": "",
            "_model_name": "HTMLModel",
            "placeholder": "​",
            "_view_module": "@jupyter-widgets/controls",
            "_model_module_version": "1.5.0",
            "value": " 47/47 [00:23&lt;00:00,  2.04ba/s]",
            "_view_count": null,
            "_view_module_version": "1.5.0",
            "description_tooltip": null,
            "_model_module": "@jupyter-widgets/controls",
            "layout": "IPY_MODEL_59c64a6b50534cdb9cdb3f160c3183a3"
          }
        },
        "b446a114b0e44fd0abdbd359a8d8f403": {
          "model_module": "@jupyter-widgets/controls",
          "model_name": "ProgressStyleModel",
          "state": {
            "_view_name": "StyleView",
            "_model_name": "ProgressStyleModel",
            "description_width": "initial",
            "_view_module": "@jupyter-widgets/base",
            "_model_module_version": "1.5.0",
            "_view_count": null,
            "_view_module_version": "1.2.0",
            "bar_color": null,
            "_model_module": "@jupyter-widgets/controls"
          }
        },
        "3c2ded0e09e84e39a7cc395248675efa": {
          "model_module": "@jupyter-widgets/base",
          "model_name": "LayoutModel",
          "state": {
            "_view_name": "LayoutView",
            "grid_template_rows": null,
            "right": null,
            "justify_content": null,
            "_view_module": "@jupyter-widgets/base",
            "overflow": null,
            "_model_module_version": "1.2.0",
            "_view_count": null,
            "flex_flow": null,
            "width": null,
            "min_width": null,
            "border": null,
            "align_items": null,
            "bottom": null,
            "_model_module": "@jupyter-widgets/base",
            "top": null,
            "grid_column": null,
            "overflow_y": null,
            "overflow_x": null,
            "grid_auto_flow": null,
            "grid_area": null,
            "grid_template_columns": null,
            "flex": null,
            "_model_name": "LayoutModel",
            "justify_items": null,
            "grid_row": null,
            "max_height": null,
            "align_content": null,
            "visibility": null,
            "align_self": null,
            "height": null,
            "min_height": null,
            "padding": null,
            "grid_auto_rows": null,
            "grid_gap": null,
            "max_width": null,
            "order": null,
            "_view_module_version": "1.2.0",
            "grid_template_areas": null,
            "object_position": null,
            "object_fit": null,
            "grid_auto_columns": null,
            "margin": null,
            "display": null,
            "left": null
          }
        },
        "a746527c28a44a3399ecc7b2552ee764": {
          "model_module": "@jupyter-widgets/controls",
          "model_name": "DescriptionStyleModel",
          "state": {
            "_view_name": "StyleView",
            "_model_name": "DescriptionStyleModel",
            "description_width": "",
            "_view_module": "@jupyter-widgets/base",
            "_model_module_version": "1.5.0",
            "_view_count": null,
            "_view_module_version": "1.2.0",
            "_model_module": "@jupyter-widgets/controls"
          }
        },
        "59c64a6b50534cdb9cdb3f160c3183a3": {
          "model_module": "@jupyter-widgets/base",
          "model_name": "LayoutModel",
          "state": {
            "_view_name": "LayoutView",
            "grid_template_rows": null,
            "right": null,
            "justify_content": null,
            "_view_module": "@jupyter-widgets/base",
            "overflow": null,
            "_model_module_version": "1.2.0",
            "_view_count": null,
            "flex_flow": null,
            "width": null,
            "min_width": null,
            "border": null,
            "align_items": null,
            "bottom": null,
            "_model_module": "@jupyter-widgets/base",
            "top": null,
            "grid_column": null,
            "overflow_y": null,
            "overflow_x": null,
            "grid_auto_flow": null,
            "grid_area": null,
            "grid_template_columns": null,
            "flex": null,
            "_model_name": "LayoutModel",
            "justify_items": null,
            "grid_row": null,
            "max_height": null,
            "align_content": null,
            "visibility": null,
            "align_self": null,
            "height": null,
            "min_height": null,
            "padding": null,
            "grid_auto_rows": null,
            "grid_gap": null,
            "max_width": null,
            "order": null,
            "_view_module_version": "1.2.0",
            "grid_template_areas": null,
            "object_position": null,
            "object_fit": null,
            "grid_auto_columns": null,
            "margin": null,
            "display": null,
            "left": null
          }
        },
        "ce52440d05004c3898d53b6ec15b829c": {
          "model_module": "@jupyter-widgets/controls",
          "model_name": "HBoxModel",
          "state": {
            "_view_name": "HBoxView",
            "_dom_classes": [],
            "_model_name": "HBoxModel",
            "_view_module": "@jupyter-widgets/controls",
            "_model_module_version": "1.5.0",
            "_view_count": null,
            "_view_module_version": "1.5.0",
            "box_style": "",
            "layout": "IPY_MODEL_f61395a243754e4888469d0b9dd20358",
            "_model_module": "@jupyter-widgets/controls",
            "children": [
              "IPY_MODEL_285f71e8d12b4edb8fe204338b295cf7",
              "IPY_MODEL_d98a9fb981224a47a694920fbea8b00d"
            ]
          }
        },
        "f61395a243754e4888469d0b9dd20358": {
          "model_module": "@jupyter-widgets/base",
          "model_name": "LayoutModel",
          "state": {
            "_view_name": "LayoutView",
            "grid_template_rows": null,
            "right": null,
            "justify_content": null,
            "_view_module": "@jupyter-widgets/base",
            "overflow": null,
            "_model_module_version": "1.2.0",
            "_view_count": null,
            "flex_flow": null,
            "width": null,
            "min_width": null,
            "border": null,
            "align_items": null,
            "bottom": null,
            "_model_module": "@jupyter-widgets/base",
            "top": null,
            "grid_column": null,
            "overflow_y": null,
            "overflow_x": null,
            "grid_auto_flow": null,
            "grid_area": null,
            "grid_template_columns": null,
            "flex": null,
            "_model_name": "LayoutModel",
            "justify_items": null,
            "grid_row": null,
            "max_height": null,
            "align_content": null,
            "visibility": null,
            "align_self": null,
            "height": null,
            "min_height": null,
            "padding": null,
            "grid_auto_rows": null,
            "grid_gap": null,
            "max_width": null,
            "order": null,
            "_view_module_version": "1.2.0",
            "grid_template_areas": null,
            "object_position": null,
            "object_fit": null,
            "grid_auto_columns": null,
            "margin": null,
            "display": null,
            "left": null
          }
        },
        "285f71e8d12b4edb8fe204338b295cf7": {
          "model_module": "@jupyter-widgets/controls",
          "model_name": "FloatProgressModel",
          "state": {
            "_view_name": "ProgressView",
            "style": "IPY_MODEL_2d67b680b7a8497caa305923cf70dab8",
            "_dom_classes": [],
            "description": "#0: 100%",
            "_model_name": "FloatProgressModel",
            "bar_style": "success",
            "max": 6,
            "_view_module": "@jupyter-widgets/controls",
            "_model_module_version": "1.5.0",
            "value": 6,
            "_view_count": null,
            "_view_module_version": "1.5.0",
            "orientation": "horizontal",
            "min": 0,
            "description_tooltip": null,
            "_model_module": "@jupyter-widgets/controls",
            "layout": "IPY_MODEL_c07f69172e9840c7abc099ac18bb58d8"
          }
        },
        "d98a9fb981224a47a694920fbea8b00d": {
          "model_module": "@jupyter-widgets/controls",
          "model_name": "HTMLModel",
          "state": {
            "_view_name": "HTMLView",
            "style": "IPY_MODEL_0446611ae62c4234939a17703dd2910d",
            "_dom_classes": [],
            "description": "",
            "_model_name": "HTMLModel",
            "placeholder": "​",
            "_view_module": "@jupyter-widgets/controls",
            "_model_module_version": "1.5.0",
            "value": " 6/6 [00:04&lt;00:00,  1.24ba/s]",
            "_view_count": null,
            "_view_module_version": "1.5.0",
            "description_tooltip": null,
            "_model_module": "@jupyter-widgets/controls",
            "layout": "IPY_MODEL_c7d0f7c3ea3c4ebaa090b8cd67866d9a"
          }
        },
        "2d67b680b7a8497caa305923cf70dab8": {
          "model_module": "@jupyter-widgets/controls",
          "model_name": "ProgressStyleModel",
          "state": {
            "_view_name": "StyleView",
            "_model_name": "ProgressStyleModel",
            "description_width": "initial",
            "_view_module": "@jupyter-widgets/base",
            "_model_module_version": "1.5.0",
            "_view_count": null,
            "_view_module_version": "1.2.0",
            "bar_color": null,
            "_model_module": "@jupyter-widgets/controls"
          }
        },
        "c07f69172e9840c7abc099ac18bb58d8": {
          "model_module": "@jupyter-widgets/base",
          "model_name": "LayoutModel",
          "state": {
            "_view_name": "LayoutView",
            "grid_template_rows": null,
            "right": null,
            "justify_content": null,
            "_view_module": "@jupyter-widgets/base",
            "overflow": null,
            "_model_module_version": "1.2.0",
            "_view_count": null,
            "flex_flow": null,
            "width": null,
            "min_width": null,
            "border": null,
            "align_items": null,
            "bottom": null,
            "_model_module": "@jupyter-widgets/base",
            "top": null,
            "grid_column": null,
            "overflow_y": null,
            "overflow_x": null,
            "grid_auto_flow": null,
            "grid_area": null,
            "grid_template_columns": null,
            "flex": null,
            "_model_name": "LayoutModel",
            "justify_items": null,
            "grid_row": null,
            "max_height": null,
            "align_content": null,
            "visibility": null,
            "align_self": null,
            "height": null,
            "min_height": null,
            "padding": null,
            "grid_auto_rows": null,
            "grid_gap": null,
            "max_width": null,
            "order": null,
            "_view_module_version": "1.2.0",
            "grid_template_areas": null,
            "object_position": null,
            "object_fit": null,
            "grid_auto_columns": null,
            "margin": null,
            "display": null,
            "left": null
          }
        },
        "0446611ae62c4234939a17703dd2910d": {
          "model_module": "@jupyter-widgets/controls",
          "model_name": "DescriptionStyleModel",
          "state": {
            "_view_name": "StyleView",
            "_model_name": "DescriptionStyleModel",
            "description_width": "",
            "_view_module": "@jupyter-widgets/base",
            "_model_module_version": "1.5.0",
            "_view_count": null,
            "_view_module_version": "1.2.0",
            "_model_module": "@jupyter-widgets/controls"
          }
        },
        "c7d0f7c3ea3c4ebaa090b8cd67866d9a": {
          "model_module": "@jupyter-widgets/base",
          "model_name": "LayoutModel",
          "state": {
            "_view_name": "LayoutView",
            "grid_template_rows": null,
            "right": null,
            "justify_content": null,
            "_view_module": "@jupyter-widgets/base",
            "overflow": null,
            "_model_module_version": "1.2.0",
            "_view_count": null,
            "flex_flow": null,
            "width": null,
            "min_width": null,
            "border": null,
            "align_items": null,
            "bottom": null,
            "_model_module": "@jupyter-widgets/base",
            "top": null,
            "grid_column": null,
            "overflow_y": null,
            "overflow_x": null,
            "grid_auto_flow": null,
            "grid_area": null,
            "grid_template_columns": null,
            "flex": null,
            "_model_name": "LayoutModel",
            "justify_items": null,
            "grid_row": null,
            "max_height": null,
            "align_content": null,
            "visibility": null,
            "align_self": null,
            "height": null,
            "min_height": null,
            "padding": null,
            "grid_auto_rows": null,
            "grid_gap": null,
            "max_width": null,
            "order": null,
            "_view_module_version": "1.2.0",
            "grid_template_areas": null,
            "object_position": null,
            "object_fit": null,
            "grid_auto_columns": null,
            "margin": null,
            "display": null,
            "left": null
          }
        },
        "6238d9a31fd940b482705cb66d6e479b": {
          "model_module": "@jupyter-widgets/controls",
          "model_name": "HBoxModel",
          "state": {
            "_view_name": "HBoxView",
            "_dom_classes": [],
            "_model_name": "HBoxModel",
            "_view_module": "@jupyter-widgets/controls",
            "_model_module_version": "1.5.0",
            "_view_count": null,
            "_view_module_version": "1.5.0",
            "box_style": "",
            "layout": "IPY_MODEL_7e467a5a337c449693385bea4c40af3f",
            "_model_module": "@jupyter-widgets/controls",
            "children": [
              "IPY_MODEL_7865277a5eea49b0b1b3d3b750dea182",
              "IPY_MODEL_c469076960014d7c9c569e4769e1135b"
            ]
          }
        },
        "7e467a5a337c449693385bea4c40af3f": {
          "model_module": "@jupyter-widgets/base",
          "model_name": "LayoutModel",
          "state": {
            "_view_name": "LayoutView",
            "grid_template_rows": null,
            "right": null,
            "justify_content": null,
            "_view_module": "@jupyter-widgets/base",
            "overflow": null,
            "_model_module_version": "1.2.0",
            "_view_count": null,
            "flex_flow": null,
            "width": null,
            "min_width": null,
            "border": null,
            "align_items": null,
            "bottom": null,
            "_model_module": "@jupyter-widgets/base",
            "top": null,
            "grid_column": null,
            "overflow_y": null,
            "overflow_x": null,
            "grid_auto_flow": null,
            "grid_area": null,
            "grid_template_columns": null,
            "flex": null,
            "_model_name": "LayoutModel",
            "justify_items": null,
            "grid_row": null,
            "max_height": null,
            "align_content": null,
            "visibility": null,
            "align_self": null,
            "height": null,
            "min_height": null,
            "padding": null,
            "grid_auto_rows": null,
            "grid_gap": null,
            "max_width": null,
            "order": null,
            "_view_module_version": "1.2.0",
            "grid_template_areas": null,
            "object_position": null,
            "object_fit": null,
            "grid_auto_columns": null,
            "margin": null,
            "display": null,
            "left": null
          }
        },
        "7865277a5eea49b0b1b3d3b750dea182": {
          "model_module": "@jupyter-widgets/controls",
          "model_name": "FloatProgressModel",
          "state": {
            "_view_name": "ProgressView",
            "style": "IPY_MODEL_b5a8b72aaf4842fc84a73a8c3eaa2f7f",
            "_dom_classes": [],
            "description": "#1: 100%",
            "_model_name": "FloatProgressModel",
            "bar_style": "success",
            "max": 6,
            "_view_module": "@jupyter-widgets/controls",
            "_model_module_version": "1.5.0",
            "value": 6,
            "_view_count": null,
            "_view_module_version": "1.5.0",
            "orientation": "horizontal",
            "min": 0,
            "description_tooltip": null,
            "_model_module": "@jupyter-widgets/controls",
            "layout": "IPY_MODEL_dddc1fa1e2334bf29b838fa994bd94e7"
          }
        },
        "c469076960014d7c9c569e4769e1135b": {
          "model_module": "@jupyter-widgets/controls",
          "model_name": "HTMLModel",
          "state": {
            "_view_name": "HTMLView",
            "style": "IPY_MODEL_115d3eda3f06430396eaa4cb19dc173e",
            "_dom_classes": [],
            "description": "",
            "_model_name": "HTMLModel",
            "placeholder": "​",
            "_view_module": "@jupyter-widgets/controls",
            "_model_module_version": "1.5.0",
            "value": " 6/6 [00:04&lt;00:00,  1.20ba/s]",
            "_view_count": null,
            "_view_module_version": "1.5.0",
            "description_tooltip": null,
            "_model_module": "@jupyter-widgets/controls",
            "layout": "IPY_MODEL_5b3b004d2e5344699abd2416fc70a201"
          }
        },
        "b5a8b72aaf4842fc84a73a8c3eaa2f7f": {
          "model_module": "@jupyter-widgets/controls",
          "model_name": "ProgressStyleModel",
          "state": {
            "_view_name": "StyleView",
            "_model_name": "ProgressStyleModel",
            "description_width": "initial",
            "_view_module": "@jupyter-widgets/base",
            "_model_module_version": "1.5.0",
            "_view_count": null,
            "_view_module_version": "1.2.0",
            "bar_color": null,
            "_model_module": "@jupyter-widgets/controls"
          }
        },
        "dddc1fa1e2334bf29b838fa994bd94e7": {
          "model_module": "@jupyter-widgets/base",
          "model_name": "LayoutModel",
          "state": {
            "_view_name": "LayoutView",
            "grid_template_rows": null,
            "right": null,
            "justify_content": null,
            "_view_module": "@jupyter-widgets/base",
            "overflow": null,
            "_model_module_version": "1.2.0",
            "_view_count": null,
            "flex_flow": null,
            "width": null,
            "min_width": null,
            "border": null,
            "align_items": null,
            "bottom": null,
            "_model_module": "@jupyter-widgets/base",
            "top": null,
            "grid_column": null,
            "overflow_y": null,
            "overflow_x": null,
            "grid_auto_flow": null,
            "grid_area": null,
            "grid_template_columns": null,
            "flex": null,
            "_model_name": "LayoutModel",
            "justify_items": null,
            "grid_row": null,
            "max_height": null,
            "align_content": null,
            "visibility": null,
            "align_self": null,
            "height": null,
            "min_height": null,
            "padding": null,
            "grid_auto_rows": null,
            "grid_gap": null,
            "max_width": null,
            "order": null,
            "_view_module_version": "1.2.0",
            "grid_template_areas": null,
            "object_position": null,
            "object_fit": null,
            "grid_auto_columns": null,
            "margin": null,
            "display": null,
            "left": null
          }
        },
        "115d3eda3f06430396eaa4cb19dc173e": {
          "model_module": "@jupyter-widgets/controls",
          "model_name": "DescriptionStyleModel",
          "state": {
            "_view_name": "StyleView",
            "_model_name": "DescriptionStyleModel",
            "description_width": "",
            "_view_module": "@jupyter-widgets/base",
            "_model_module_version": "1.5.0",
            "_view_count": null,
            "_view_module_version": "1.2.0",
            "_model_module": "@jupyter-widgets/controls"
          }
        },
        "5b3b004d2e5344699abd2416fc70a201": {
          "model_module": "@jupyter-widgets/base",
          "model_name": "LayoutModel",
          "state": {
            "_view_name": "LayoutView",
            "grid_template_rows": null,
            "right": null,
            "justify_content": null,
            "_view_module": "@jupyter-widgets/base",
            "overflow": null,
            "_model_module_version": "1.2.0",
            "_view_count": null,
            "flex_flow": null,
            "width": null,
            "min_width": null,
            "border": null,
            "align_items": null,
            "bottom": null,
            "_model_module": "@jupyter-widgets/base",
            "top": null,
            "grid_column": null,
            "overflow_y": null,
            "overflow_x": null,
            "grid_auto_flow": null,
            "grid_area": null,
            "grid_template_columns": null,
            "flex": null,
            "_model_name": "LayoutModel",
            "justify_items": null,
            "grid_row": null,
            "max_height": null,
            "align_content": null,
            "visibility": null,
            "align_self": null,
            "height": null,
            "min_height": null,
            "padding": null,
            "grid_auto_rows": null,
            "grid_gap": null,
            "max_width": null,
            "order": null,
            "_view_module_version": "1.2.0",
            "grid_template_areas": null,
            "object_position": null,
            "object_fit": null,
            "grid_auto_columns": null,
            "margin": null,
            "display": null,
            "left": null
          }
        },
        "05da25d3a43548b58ff529b5728a8667": {
          "model_module": "@jupyter-widgets/controls",
          "model_name": "HBoxModel",
          "state": {
            "_view_name": "HBoxView",
            "_dom_classes": [],
            "_model_name": "HBoxModel",
            "_view_module": "@jupyter-widgets/controls",
            "_model_module_version": "1.5.0",
            "_view_count": null,
            "_view_module_version": "1.5.0",
            "box_style": "",
            "layout": "IPY_MODEL_e0e55031a22e445d8ae21e953e338d7c",
            "_model_module": "@jupyter-widgets/controls",
            "children": [
              "IPY_MODEL_29bcf368a2274b358a3109b98884f642",
              "IPY_MODEL_c2ed50d4259b4573a097054a9e2f9412"
            ]
          }
        },
        "e0e55031a22e445d8ae21e953e338d7c": {
          "model_module": "@jupyter-widgets/base",
          "model_name": "LayoutModel",
          "state": {
            "_view_name": "LayoutView",
            "grid_template_rows": null,
            "right": null,
            "justify_content": null,
            "_view_module": "@jupyter-widgets/base",
            "overflow": null,
            "_model_module_version": "1.2.0",
            "_view_count": null,
            "flex_flow": null,
            "width": null,
            "min_width": null,
            "border": null,
            "align_items": null,
            "bottom": null,
            "_model_module": "@jupyter-widgets/base",
            "top": null,
            "grid_column": null,
            "overflow_y": null,
            "overflow_x": null,
            "grid_auto_flow": null,
            "grid_area": null,
            "grid_template_columns": null,
            "flex": null,
            "_model_name": "LayoutModel",
            "justify_items": null,
            "grid_row": null,
            "max_height": null,
            "align_content": null,
            "visibility": null,
            "align_self": null,
            "height": null,
            "min_height": null,
            "padding": null,
            "grid_auto_rows": null,
            "grid_gap": null,
            "max_width": null,
            "order": null,
            "_view_module_version": "1.2.0",
            "grid_template_areas": null,
            "object_position": null,
            "object_fit": null,
            "grid_auto_columns": null,
            "margin": null,
            "display": null,
            "left": null
          }
        },
        "29bcf368a2274b358a3109b98884f642": {
          "model_module": "@jupyter-widgets/controls",
          "model_name": "FloatProgressModel",
          "state": {
            "_view_name": "ProgressView",
            "style": "IPY_MODEL_83902c7325314c80a9d1bd413d2547bb",
            "_dom_classes": [],
            "description": "#2: 100%",
            "_model_name": "FloatProgressModel",
            "bar_style": "success",
            "max": 6,
            "_view_module": "@jupyter-widgets/controls",
            "_model_module_version": "1.5.0",
            "value": 6,
            "_view_count": null,
            "_view_module_version": "1.5.0",
            "orientation": "horizontal",
            "min": 0,
            "description_tooltip": null,
            "_model_module": "@jupyter-widgets/controls",
            "layout": "IPY_MODEL_930532742c9247efa237d964702e4337"
          }
        },
        "c2ed50d4259b4573a097054a9e2f9412": {
          "model_module": "@jupyter-widgets/controls",
          "model_name": "HTMLModel",
          "state": {
            "_view_name": "HTMLView",
            "style": "IPY_MODEL_5e86d3f1eaae4c4194a4e4933b4c7455",
            "_dom_classes": [],
            "description": "",
            "_model_name": "HTMLModel",
            "placeholder": "​",
            "_view_module": "@jupyter-widgets/controls",
            "_model_module_version": "1.5.0",
            "value": " 6/6 [00:05&lt;00:00,  1.04ba/s]",
            "_view_count": null,
            "_view_module_version": "1.5.0",
            "description_tooltip": null,
            "_model_module": "@jupyter-widgets/controls",
            "layout": "IPY_MODEL_b6a8a85d4a2849648eddbbe26c0e4106"
          }
        },
        "83902c7325314c80a9d1bd413d2547bb": {
          "model_module": "@jupyter-widgets/controls",
          "model_name": "ProgressStyleModel",
          "state": {
            "_view_name": "StyleView",
            "_model_name": "ProgressStyleModel",
            "description_width": "initial",
            "_view_module": "@jupyter-widgets/base",
            "_model_module_version": "1.5.0",
            "_view_count": null,
            "_view_module_version": "1.2.0",
            "bar_color": null,
            "_model_module": "@jupyter-widgets/controls"
          }
        },
        "930532742c9247efa237d964702e4337": {
          "model_module": "@jupyter-widgets/base",
          "model_name": "LayoutModel",
          "state": {
            "_view_name": "LayoutView",
            "grid_template_rows": null,
            "right": null,
            "justify_content": null,
            "_view_module": "@jupyter-widgets/base",
            "overflow": null,
            "_model_module_version": "1.2.0",
            "_view_count": null,
            "flex_flow": null,
            "width": null,
            "min_width": null,
            "border": null,
            "align_items": null,
            "bottom": null,
            "_model_module": "@jupyter-widgets/base",
            "top": null,
            "grid_column": null,
            "overflow_y": null,
            "overflow_x": null,
            "grid_auto_flow": null,
            "grid_area": null,
            "grid_template_columns": null,
            "flex": null,
            "_model_name": "LayoutModel",
            "justify_items": null,
            "grid_row": null,
            "max_height": null,
            "align_content": null,
            "visibility": null,
            "align_self": null,
            "height": null,
            "min_height": null,
            "padding": null,
            "grid_auto_rows": null,
            "grid_gap": null,
            "max_width": null,
            "order": null,
            "_view_module_version": "1.2.0",
            "grid_template_areas": null,
            "object_position": null,
            "object_fit": null,
            "grid_auto_columns": null,
            "margin": null,
            "display": null,
            "left": null
          }
        },
        "5e86d3f1eaae4c4194a4e4933b4c7455": {
          "model_module": "@jupyter-widgets/controls",
          "model_name": "DescriptionStyleModel",
          "state": {
            "_view_name": "StyleView",
            "_model_name": "DescriptionStyleModel",
            "description_width": "",
            "_view_module": "@jupyter-widgets/base",
            "_model_module_version": "1.5.0",
            "_view_count": null,
            "_view_module_version": "1.2.0",
            "_model_module": "@jupyter-widgets/controls"
          }
        },
        "b6a8a85d4a2849648eddbbe26c0e4106": {
          "model_module": "@jupyter-widgets/base",
          "model_name": "LayoutModel",
          "state": {
            "_view_name": "LayoutView",
            "grid_template_rows": null,
            "right": null,
            "justify_content": null,
            "_view_module": "@jupyter-widgets/base",
            "overflow": null,
            "_model_module_version": "1.2.0",
            "_view_count": null,
            "flex_flow": null,
            "width": null,
            "min_width": null,
            "border": null,
            "align_items": null,
            "bottom": null,
            "_model_module": "@jupyter-widgets/base",
            "top": null,
            "grid_column": null,
            "overflow_y": null,
            "overflow_x": null,
            "grid_auto_flow": null,
            "grid_area": null,
            "grid_template_columns": null,
            "flex": null,
            "_model_name": "LayoutModel",
            "justify_items": null,
            "grid_row": null,
            "max_height": null,
            "align_content": null,
            "visibility": null,
            "align_self": null,
            "height": null,
            "min_height": null,
            "padding": null,
            "grid_auto_rows": null,
            "grid_gap": null,
            "max_width": null,
            "order": null,
            "_view_module_version": "1.2.0",
            "grid_template_areas": null,
            "object_position": null,
            "object_fit": null,
            "grid_auto_columns": null,
            "margin": null,
            "display": null,
            "left": null
          }
        },
        "2c793238552a428888389d1a541e5df6": {
          "model_module": "@jupyter-widgets/controls",
          "model_name": "HBoxModel",
          "state": {
            "_view_name": "HBoxView",
            "_dom_classes": [],
            "_model_name": "HBoxModel",
            "_view_module": "@jupyter-widgets/controls",
            "_model_module_version": "1.5.0",
            "_view_count": null,
            "_view_module_version": "1.5.0",
            "box_style": "",
            "layout": "IPY_MODEL_f2b0987c10604da491b6ee9aeb1a5382",
            "_model_module": "@jupyter-widgets/controls",
            "children": [
              "IPY_MODEL_9ecba7352c6347f8bf18aaab58238138",
              "IPY_MODEL_334529da11ad459fbbc4199e3e907e89"
            ]
          }
        },
        "f2b0987c10604da491b6ee9aeb1a5382": {
          "model_module": "@jupyter-widgets/base",
          "model_name": "LayoutModel",
          "state": {
            "_view_name": "LayoutView",
            "grid_template_rows": null,
            "right": null,
            "justify_content": null,
            "_view_module": "@jupyter-widgets/base",
            "overflow": null,
            "_model_module_version": "1.2.0",
            "_view_count": null,
            "flex_flow": null,
            "width": null,
            "min_width": null,
            "border": null,
            "align_items": null,
            "bottom": null,
            "_model_module": "@jupyter-widgets/base",
            "top": null,
            "grid_column": null,
            "overflow_y": null,
            "overflow_x": null,
            "grid_auto_flow": null,
            "grid_area": null,
            "grid_template_columns": null,
            "flex": null,
            "_model_name": "LayoutModel",
            "justify_items": null,
            "grid_row": null,
            "max_height": null,
            "align_content": null,
            "visibility": null,
            "align_self": null,
            "height": null,
            "min_height": null,
            "padding": null,
            "grid_auto_rows": null,
            "grid_gap": null,
            "max_width": null,
            "order": null,
            "_view_module_version": "1.2.0",
            "grid_template_areas": null,
            "object_position": null,
            "object_fit": null,
            "grid_auto_columns": null,
            "margin": null,
            "display": null,
            "left": null
          }
        },
        "9ecba7352c6347f8bf18aaab58238138": {
          "model_module": "@jupyter-widgets/controls",
          "model_name": "FloatProgressModel",
          "state": {
            "_view_name": "ProgressView",
            "style": "IPY_MODEL_b6efbffad2b44f7eb0b45788a69b22b2",
            "_dom_classes": [],
            "description": "#3: 100%",
            "_model_name": "FloatProgressModel",
            "bar_style": "success",
            "max": 6,
            "_view_module": "@jupyter-widgets/controls",
            "_model_module_version": "1.5.0",
            "value": 6,
            "_view_count": null,
            "_view_module_version": "1.5.0",
            "orientation": "horizontal",
            "min": 0,
            "description_tooltip": null,
            "_model_module": "@jupyter-widgets/controls",
            "layout": "IPY_MODEL_2893318b6ae149c683e6432d3d748b76"
          }
        },
        "334529da11ad459fbbc4199e3e907e89": {
          "model_module": "@jupyter-widgets/controls",
          "model_name": "HTMLModel",
          "state": {
            "_view_name": "HTMLView",
            "style": "IPY_MODEL_f718d1c3f4f6470da3e2c7eee24f435c",
            "_dom_classes": [],
            "description": "",
            "_model_name": "HTMLModel",
            "placeholder": "​",
            "_view_module": "@jupyter-widgets/controls",
            "_model_module_version": "1.5.0",
            "value": " 6/6 [00:04&lt;00:00,  1.24ba/s]",
            "_view_count": null,
            "_view_module_version": "1.5.0",
            "description_tooltip": null,
            "_model_module": "@jupyter-widgets/controls",
            "layout": "IPY_MODEL_31bff84309c04f0c8fa57082fd26cd3d"
          }
        },
        "b6efbffad2b44f7eb0b45788a69b22b2": {
          "model_module": "@jupyter-widgets/controls",
          "model_name": "ProgressStyleModel",
          "state": {
            "_view_name": "StyleView",
            "_model_name": "ProgressStyleModel",
            "description_width": "initial",
            "_view_module": "@jupyter-widgets/base",
            "_model_module_version": "1.5.0",
            "_view_count": null,
            "_view_module_version": "1.2.0",
            "bar_color": null,
            "_model_module": "@jupyter-widgets/controls"
          }
        },
        "2893318b6ae149c683e6432d3d748b76": {
          "model_module": "@jupyter-widgets/base",
          "model_name": "LayoutModel",
          "state": {
            "_view_name": "LayoutView",
            "grid_template_rows": null,
            "right": null,
            "justify_content": null,
            "_view_module": "@jupyter-widgets/base",
            "overflow": null,
            "_model_module_version": "1.2.0",
            "_view_count": null,
            "flex_flow": null,
            "width": null,
            "min_width": null,
            "border": null,
            "align_items": null,
            "bottom": null,
            "_model_module": "@jupyter-widgets/base",
            "top": null,
            "grid_column": null,
            "overflow_y": null,
            "overflow_x": null,
            "grid_auto_flow": null,
            "grid_area": null,
            "grid_template_columns": null,
            "flex": null,
            "_model_name": "LayoutModel",
            "justify_items": null,
            "grid_row": null,
            "max_height": null,
            "align_content": null,
            "visibility": null,
            "align_self": null,
            "height": null,
            "min_height": null,
            "padding": null,
            "grid_auto_rows": null,
            "grid_gap": null,
            "max_width": null,
            "order": null,
            "_view_module_version": "1.2.0",
            "grid_template_areas": null,
            "object_position": null,
            "object_fit": null,
            "grid_auto_columns": null,
            "margin": null,
            "display": null,
            "left": null
          }
        },
        "f718d1c3f4f6470da3e2c7eee24f435c": {
          "model_module": "@jupyter-widgets/controls",
          "model_name": "DescriptionStyleModel",
          "state": {
            "_view_name": "StyleView",
            "_model_name": "DescriptionStyleModel",
            "description_width": "",
            "_view_module": "@jupyter-widgets/base",
            "_model_module_version": "1.5.0",
            "_view_count": null,
            "_view_module_version": "1.2.0",
            "_model_module": "@jupyter-widgets/controls"
          }
        },
        "31bff84309c04f0c8fa57082fd26cd3d": {
          "model_module": "@jupyter-widgets/base",
          "model_name": "LayoutModel",
          "state": {
            "_view_name": "LayoutView",
            "grid_template_rows": null,
            "right": null,
            "justify_content": null,
            "_view_module": "@jupyter-widgets/base",
            "overflow": null,
            "_model_module_version": "1.2.0",
            "_view_count": null,
            "flex_flow": null,
            "width": null,
            "min_width": null,
            "border": null,
            "align_items": null,
            "bottom": null,
            "_model_module": "@jupyter-widgets/base",
            "top": null,
            "grid_column": null,
            "overflow_y": null,
            "overflow_x": null,
            "grid_auto_flow": null,
            "grid_area": null,
            "grid_template_columns": null,
            "flex": null,
            "_model_name": "LayoutModel",
            "justify_items": null,
            "grid_row": null,
            "max_height": null,
            "align_content": null,
            "visibility": null,
            "align_self": null,
            "height": null,
            "min_height": null,
            "padding": null,
            "grid_auto_rows": null,
            "grid_gap": null,
            "max_width": null,
            "order": null,
            "_view_module_version": "1.2.0",
            "grid_template_areas": null,
            "object_position": null,
            "object_fit": null,
            "grid_auto_columns": null,
            "margin": null,
            "display": null,
            "left": null
          }
        }
      }
    }
  },
  "cells": [
    {
      "cell_type": "code",
      "metadata": {
        "id": "JMIYBqZx4U7h"
      },
      "source": [
        "%%capture\n",
        "!pip install datasets==1.4.1\n",
        "!pip install transformers==4.4.0\n",
        "!pip install torchaudio\n",
        "!pip install librosa\n",
        "!pip install jiwer\n",
        "!pip install urduhack"
      ],
      "execution_count": null,
      "outputs": []
    },
    {
      "cell_type": "markdown",
      "metadata": {
        "id": "0mW-C1Nt-j7k"
      },
      "source": [
        "## Data Preprocessing, Tokenizer, Feature Extractor"
      ]
    },
    {
      "cell_type": "code",
      "metadata": {
        "id": "B9w7XLp84kpe"
      },
      "source": [
        "from datasets import Dataset\n",
        "import pandas as pd\n",
        "import numpy as np\n",
        "from datasets import load_metric\n",
        "from urduhack.preprocessing import replace_numbers\n",
        "from urduhack.preprocessing import normalize_whitespace\n",
        "from urduhack.preprocessing import remove_english_alphabets\n",
        "from urduhack.preprocessing import remove_accents\n",
        "from urduhack.preprocessing import remove_punctuation"
      ],
      "execution_count": null,
      "outputs": []
    },
    {
      "cell_type": "markdown",
      "metadata": {
        "id": "W1f08DG9RAF8"
      },
      "source": [
        "Data Preprocessing using Urduhack"
      ]
    },
    {
      "cell_type": "markdown",
      "metadata": {
        "id": "Rr0hHT4pRLpa"
      },
      "source": [
        "\n",
        "*   Train Data\n",
        "\n"
      ]
    },
    {
      "cell_type": "code",
      "metadata": {
        "colab": {
          "base_uri": "https://localhost:8080/",
          "height": 204
        },
        "id": "TI9VH1w_A7RX",
        "outputId": "bcd1990f-8977-48d5-81ac-14e6c5306727"
      },
      "source": [
        "data = pd.read_csv(\"/content/drive/MyDrive/NLP_A7_dataset1500 .csv\")\n",
        "data_cleaned = []\n",
        "\n",
        "for i in data['text']:\n",
        "  x = remove_punctuation(i)\n",
        "  x = replace_numbers(i)\n",
        "  x = normalize_whitespace(i)\n",
        "  x = remove_english_alphabets(x)\n",
        "  x = remove_accents(x)\n",
        "\n",
        "  data_cleaned.append(x)\n",
        "\n",
        "data['text'] = data_cleaned\n",
        "data.head()\n"
      ],
      "execution_count": null,
      "outputs": [
        {
          "output_type": "execute_result",
          "data": {
            "text/html": [
              "<div>\n",
              "<style scoped>\n",
              "    .dataframe tbody tr th:only-of-type {\n",
              "        vertical-align: middle;\n",
              "    }\n",
              "\n",
              "    .dataframe tbody tr th {\n",
              "        vertical-align: top;\n",
              "    }\n",
              "\n",
              "    .dataframe thead th {\n",
              "        text-align: right;\n",
              "    }\n",
              "</style>\n",
              "<table border=\"1\" class=\"dataframe\">\n",
              "  <thead>\n",
              "    <tr style=\"text-align: right;\">\n",
              "      <th></th>\n",
              "      <th>key</th>\n",
              "      <th>text</th>\n",
              "    </tr>\n",
              "  </thead>\n",
              "  <tbody>\n",
              "    <tr>\n",
              "      <th>0</th>\n",
              "      <td>/content/drive/MyDrive/21I-2083_Bushra Amjad (...</td>\n",
              "      <td>کہ</td>\n",
              "    </tr>\n",
              "    <tr>\n",
              "      <th>1</th>\n",
              "      <td>/content/drive/MyDrive/21I-2083_Bushra Amjad (...</td>\n",
              "      <td>بالکل آپ کی جو ہے وہ</td>\n",
              "    </tr>\n",
              "    <tr>\n",
              "      <th>2</th>\n",
              "      <td>/content/drive/MyDrive/21I-2083_Bushra Amjad (...</td>\n",
              "      <td>یہ صرف کمپلین کے لیے یہ آپ</td>\n",
              "    </tr>\n",
              "    <tr>\n",
              "      <th>3</th>\n",
              "      <td>/content/drive/MyDrive/21I-2083_Bushra Amjad (...</td>\n",
              "      <td>سر شروع ہو گیا ہےشاید بلڈنگ کا</td>\n",
              "    </tr>\n",
              "    <tr>\n",
              "      <th>4</th>\n",
              "      <td>/content/drive/MyDrive/21I-2083_Bushra Amjad (...</td>\n",
              "      <td>پریشانی کا ایشو نہیں ہے ہیلپ لائن آپ</td>\n",
              "    </tr>\n",
              "  </tbody>\n",
              "</table>\n",
              "</div>"
            ],
            "text/plain": [
              "                                                 key                                  text\n",
              "0  /content/drive/MyDrive/21I-2083_Bushra Amjad (...                                    کہ\n",
              "1  /content/drive/MyDrive/21I-2083_Bushra Amjad (...                  بالکل آپ کی جو ہے وہ\n",
              "2  /content/drive/MyDrive/21I-2083_Bushra Amjad (...            یہ صرف کمپلین کے لیے یہ آپ\n",
              "3  /content/drive/MyDrive/21I-2083_Bushra Amjad (...        سر شروع ہو گیا ہےشاید بلڈنگ کا\n",
              "4  /content/drive/MyDrive/21I-2083_Bushra Amjad (...  پریشانی کا ایشو نہیں ہے ہیلپ لائن آپ"
            ]
          },
          "metadata": {
            "tags": []
          },
          "execution_count": 4
        }
      ]
    },
    {
      "cell_type": "markdown",
      "metadata": {
        "id": "Fp8Eu0PqRTmm"
      },
      "source": [
        "\n",
        "*   Test Data\n",
        "\n"
      ]
    },
    {
      "cell_type": "code",
      "metadata": {
        "colab": {
          "base_uri": "https://localhost:8080/",
          "height": 204
        },
        "id": "UMgh3O_4v-ln",
        "outputId": "b2361102-9467-4470-e20e-2b52723f3879"
      },
      "source": [
        "test_data = pd.read_csv(\"/content/drive/MyDrive/test_data.csv\")\n",
        "test_data.head()"
      ],
      "execution_count": null,
      "outputs": [
        {
          "output_type": "execute_result",
          "data": {
            "text/html": [
              "<div>\n",
              "<style scoped>\n",
              "    .dataframe tbody tr th:only-of-type {\n",
              "        vertical-align: middle;\n",
              "    }\n",
              "\n",
              "    .dataframe tbody tr th {\n",
              "        vertical-align: top;\n",
              "    }\n",
              "\n",
              "    .dataframe thead th {\n",
              "        text-align: right;\n",
              "    }\n",
              "</style>\n",
              "<table border=\"1\" class=\"dataframe\">\n",
              "  <thead>\n",
              "    <tr style=\"text-align: right;\">\n",
              "      <th></th>\n",
              "      <th>key</th>\n",
              "      <th>text</th>\n",
              "    </tr>\n",
              "  </thead>\n",
              "  <tbody>\n",
              "    <tr>\n",
              "      <th>0</th>\n",
              "      <td>/content/drive/MyDrive/Test Dataset/1.wav</td>\n",
              "      <td>جی سر میں ڈیٹیلز چیک کرتا ہوں کائنڈلی ویٹ کیجی...</td>\n",
              "    </tr>\n",
              "    <tr>\n",
              "      <th>1</th>\n",
              "      <td>/content/drive/MyDrive/Test Dataset/2.wav</td>\n",
              "      <td>اسلام علیکم کر رہا ہوں جی فرمائے میں آپکی کیا ...</td>\n",
              "    </tr>\n",
              "    <tr>\n",
              "      <th>2</th>\n",
              "      <td>/content/drive/MyDrive/Test Dataset/3.wav</td>\n",
              "      <td>میں سَر دیکھ لیتا ہوں جس نمبر سے کال کر رہے ہی...</td>\n",
              "    </tr>\n",
              "    <tr>\n",
              "      <th>3</th>\n",
              "      <td>/content/drive/MyDrive/Test Dataset/4.wav</td>\n",
              "      <td>جی جس نمبر سے آپ کال کر رہے ہیں اسی نمبر پہ اش...</td>\n",
              "    </tr>\n",
              "    <tr>\n",
              "      <th>4</th>\n",
              "      <td>/content/drive/MyDrive/Test Dataset/5.wav</td>\n",
              "      <td>مزید ویٹ کیجیے گا سر</td>\n",
              "    </tr>\n",
              "  </tbody>\n",
              "</table>\n",
              "</div>"
            ],
            "text/plain": [
              "                                         key                                               text\n",
              "0  /content/drive/MyDrive/Test Dataset/1.wav  جی سر میں ڈیٹیلز چیک کرتا ہوں کائنڈلی ویٹ کیجی...\n",
              "1  /content/drive/MyDrive/Test Dataset/2.wav  اسلام علیکم کر رہا ہوں جی فرمائے میں آپکی کیا ...\n",
              "2  /content/drive/MyDrive/Test Dataset/3.wav  میں سَر دیکھ لیتا ہوں جس نمبر سے کال کر رہے ہی...\n",
              "3  /content/drive/MyDrive/Test Dataset/4.wav  جی جس نمبر سے آپ کال کر رہے ہیں اسی نمبر پہ اش...\n",
              "4  /content/drive/MyDrive/Test Dataset/5.wav                               مزید ویٹ کیجیے گا سر"
            ]
          },
          "metadata": {
            "tags": []
          },
          "execution_count": 51
        }
      ]
    },
    {
      "cell_type": "code",
      "metadata": {
        "colab": {
          "base_uri": "https://localhost:8080/"
        },
        "id": "n7TyKjiEuV9s",
        "outputId": "17f2bfa9-c2be-4ad4-91b0-d404e7468fca"
      },
      "source": [
        "import os.path\n",
        "key = []\n",
        "text = []\n",
        "\n",
        "for x in range(len(data['key'])):\n",
        "  if os.path.isfile(data['key'][x]):\n",
        "    key.append(data['key'][x])\n",
        "    text.append(data['text'][x])\n",
        "\n",
        "data = {'key' : key, 'text' : text}\n",
        "data = pd.DataFrame(data)\n",
        "data = Dataset.from_pandas(data)\n",
        "data\n"
      ],
      "execution_count": null,
      "outputs": [
        {
          "output_type": "execute_result",
          "data": {
            "text/plain": [
              "Dataset({\n",
              "    features: ['key', 'text'],\n",
              "    num_rows: 1500\n",
              "})"
            ]
          },
          "metadata": {
            "tags": []
          },
          "execution_count": 6
        }
      ]
    },
    {
      "cell_type": "code",
      "metadata": {
        "colab": {
          "base_uri": "https://localhost:8080/"
        },
        "id": "Z1Wqw_qp5Cl4",
        "outputId": "d7b326ad-8ddf-4025-cbf3-3d1c0a07b36b"
      },
      "source": [
        "key = []\n",
        "text = []\n",
        "for x in range(len(test_data['key'])):\n",
        "  key.append(test_data['key'][x])\n",
        "  text.append(test_data['text'][x])\n",
        "\n",
        "test_data = {'key' : key, 'text' : text}\n",
        "test_data = pd.DataFrame(test_data)\n",
        "test_data = Dataset.from_pandas(test_data)\n",
        "test_data"
      ],
      "execution_count": null,
      "outputs": [
        {
          "output_type": "execute_result",
          "data": {
            "text/plain": [
              "Dataset({\n",
              "    features: ['key', 'text'],\n",
              "    num_rows: 169\n",
              "})"
            ]
          },
          "metadata": {
            "tags": []
          },
          "execution_count": 8
        }
      ]
    },
    {
      "cell_type": "markdown",
      "metadata": {
        "id": "1k9I_i0FRd1e"
      },
      "source": [
        "Displaying Random samples"
      ]
    },
    {
      "cell_type": "code",
      "metadata": {
        "colab": {
          "base_uri": "https://localhost:8080/",
          "height": 359
        },
        "id": "vLriQwmH6UZ_",
        "outputId": "d586ca2f-e436-4db3-f3ca-9c700ee16f9e"
      },
      "source": [
        "from datasets import ClassLabel\n",
        "import random\n",
        "import pandas as pd\n",
        "from IPython.display import display, HTML\n",
        "\n",
        "def show_random_elements(dataset, num_examples=10):\n",
        "    assert num_examples <= len(dataset), \"Can't pick more elements than there are in the dataset.\"\n",
        "    picks = []\n",
        "    for _ in range(num_examples):\n",
        "        pick = random.randint(0, len(dataset)-1)\n",
        "        while pick in picks:\n",
        "            pick = random.randint(0, len(dataset)-1)\n",
        "        picks.append(pick)\n",
        "    \n",
        "    df = pd.DataFrame(dataset[picks])\n",
        "    display(HTML(df.to_html()))\n",
        "\n",
        "show_random_elements(data.remove_columns(['key']))"
      ],
      "execution_count": null,
      "outputs": [
        {
          "output_type": "display_data",
          "data": {
            "text/html": [
              "<table border=\"1\" class=\"dataframe\">\n",
              "  <thead>\n",
              "    <tr style=\"text-align: right;\">\n",
              "      <th></th>\n",
              "      <th>text</th>\n",
              "    </tr>\n",
              "  </thead>\n",
              "  <tbody>\n",
              "    <tr>\n",
              "      <th>0</th>\n",
              "      <td>ہولڈ کریں</td>\n",
              "    </tr>\n",
              "    <tr>\n",
              "      <th>1</th>\n",
              "      <td>السلام علیکم جی اچھا جی نیکسٹ</td>\n",
              "    </tr>\n",
              "    <tr>\n",
              "      <th>2</th>\n",
              "      <td>*</td>\n",
              "    </tr>\n",
              "    <tr>\n",
              "      <th>3</th>\n",
              "      <td>کھوپرا خوابوں معلوم ہوا کہ وہ پانچ</td>\n",
              "    </tr>\n",
              "    <tr>\n",
              "      <th>4</th>\n",
              "      <td>عبدالباری</td>\n",
              "    </tr>\n",
              "    <tr>\n",
              "      <th>5</th>\n",
              "      <td>*</td>\n",
              "    </tr>\n",
              "    <tr>\n",
              "      <th>6</th>\n",
              "      <td>اب بھی کرن ٹائمنگ نیٹ</td>\n",
              "    </tr>\n",
              "    <tr>\n",
              "      <th>7</th>\n",
              "      <td>کلک کرنے کے بعد آپ کے پاس ایک صفہ ہو گا گا</td>\n",
              "    </tr>\n",
              "    <tr>\n",
              "      <th>8</th>\n",
              "      <td>کر دیا دیکھیں کوئی جسٹیفیکیشن ہے</td>\n",
              "    </tr>\n",
              "    <tr>\n",
              "      <th>9</th>\n",
              "      <td>آپ کی سروسز چیک کی جا رہی انتظار فرماے</td>\n",
              "    </tr>\n",
              "  </tbody>\n",
              "</table>"
            ],
            "text/plain": [
              "<IPython.core.display.HTML object>"
            ]
          },
          "metadata": {
            "tags": []
          }
        }
      ]
    },
    {
      "cell_type": "code",
      "metadata": {
        "id": "Sw_OipVE9hZ8"
      },
      "source": [
        "def extract_all_chars(batch):\n",
        "  all_text = \" \".join(batch[\"text\"])\n",
        "  vocab = list(set(all_text))\n",
        "  return {\"vocab\": [vocab], \"all_text\": [all_text]}"
      ],
      "execution_count": null,
      "outputs": []
    },
    {
      "cell_type": "code",
      "metadata": {
        "id": "mQAeyIS0aFEP"
      },
      "source": [
        "vocab_dict = {\n",
        "0: ' ',\n",
        "1: 'ا',\n",
        "2: 'آ',\n",
        "3: 'ب',\n",
        "4: 'پ',\n",
        "5: 'ت',\n",
        "6: 'ٹ',\n",
        "7: 'ث',\n",
        "8: 'ج',\n",
        "9: 'چ',\n",
        "10: 'ح',\n",
        "11: 'خ',\n",
        "12: 'د',\n",
        "13: 'ڈ',\n",
        "14: 'ذ',\n",
        "15: 'ر',\n",
        "16: 'ڑ',\n",
        "17: 'ز',\n",
        "18: 'ژ',\n",
        "19: 'س',\n",
        "20: 'ش',\n",
        "21: 'ص',\n",
        "22: 'ض',\n",
        "23: 'ط',\n",
        "24: 'ظ',\n",
        "25: 'ع',\n",
        "26: 'غ',\n",
        "27: 'ف',\n",
        "28: 'ق',\n",
        "29: 'ک',\n",
        "30: 'گ',\n",
        "31: 'ل',\n",
        "32: 'م',\n",
        "33: 'ن',\n",
        "34: 'ں',\n",
        "35: 'و',\n",
        "36: 'ہ',\n",
        "37: 'ھ',\n",
        "38: 'ء',\n",
        "39: 'ئ',\n",
        "40: 'ی',\n",
        "41: 'ے'\n",
        "}"
      ],
      "execution_count": null,
      "outputs": []
    },
    {
      "cell_type": "code",
      "metadata": {
        "colab": {
          "base_uri": "https://localhost:8080/"
        },
        "id": "yan0kcuB60ir",
        "outputId": "8afff8f3-bfb9-4d54-f2e1-6bc9d8e0c37a"
      },
      "source": [
        "vocab_dict[\"[UNK]\"] = len(vocab_dict)\n",
        "vocab_dict[\"[PAD]\"] = len(vocab_dict)\n",
        "len(vocab_dict)"
      ],
      "execution_count": null,
      "outputs": [
        {
          "output_type": "execute_result",
          "data": {
            "text/plain": [
              "44"
            ]
          },
          "metadata": {
            "tags": []
          },
          "execution_count": 12
        }
      ]
    },
    {
      "cell_type": "code",
      "metadata": {
        "id": "cFAr1gDW62Ox"
      },
      "source": [
        "import json\n",
        "with open('vocab.json', 'w') as vocab_file:\n",
        "    json.dump(vocab_dict, vocab_file)"
      ],
      "execution_count": null,
      "outputs": []
    },
    {
      "cell_type": "code",
      "metadata": {
        "id": "SlkPaUKt64cf"
      },
      "source": [
        "from transformers import Wav2Vec2CTCTokenizer\n",
        "\n",
        "tokenizer = Wav2Vec2CTCTokenizer(\"./vocab.json\", unk_token=\"[UNK]\", pad_token=\"[PAD]\", word_delimiter_token=\"|\")"
      ],
      "execution_count": null,
      "outputs": []
    },
    {
      "cell_type": "code",
      "metadata": {
        "id": "_9VP2qBY67Qu"
      },
      "source": [
        "from transformers import Wav2Vec2FeatureExtractor\n",
        "\n",
        "feature_extractor = Wav2Vec2FeatureExtractor(feature_size=1, sampling_rate=16000, padding_value=0.0, do_normalize=True, return_attention_mask=True)"
      ],
      "execution_count": null,
      "outputs": []
    },
    {
      "cell_type": "markdown",
      "metadata": {
        "id": "mYcIiR2FQ96i"
      },
      "source": [
        "### Create XLSR-Wav2Vec2 Feature Extractor"
      ]
    },
    {
      "cell_type": "markdown",
      "metadata": {
        "id": "gijh1DeBQiUC"
      },
      "source": [
        ""
      ]
    },
    {
      "cell_type": "code",
      "metadata": {
        "id": "1Sau1DmC6_4X"
      },
      "source": [
        "from transformers import Wav2Vec2Processor\n",
        "\n",
        "processor = Wav2Vec2Processor(feature_extractor=feature_extractor, tokenizer=tokenizer)"
      ],
      "execution_count": null,
      "outputs": []
    },
    {
      "cell_type": "markdown",
      "metadata": {
        "id": "YFmShnl7RE35"
      },
      "source": [
        "### Preprocess Data\n",
        "\n",
        "So far, we have not looked at the actual values of the speech signal but just kept the path to its file in the dataset. `XLSR-Wav2Vec2` expects the audio file in the format of a 1-dimensional array, so in the first step, let's load all audio files into the dataset object.\n",
        "\n",
        "Let's first check the serialization format of the downloaded audio files by looking at the first training sample."
      ]
    },
    {
      "cell_type": "code",
      "metadata": {
        "id": "wbsXv5pz7HcO"
      },
      "source": [
        "import torchaudio\n",
        "\n",
        "def speech_file_to_array_fn(batch):\n",
        "    speech_array, sampling_rate = torchaudio.load(batch[\"key\"])\n",
        "    batch[\"speech\"] = speech_array[0].numpy()\n",
        "    batch[\"sampling_rate\"] = sampling_rate\n",
        "    batch[\"target_text\"] = batch[\"text\"]\n",
        "    return batch"
      ],
      "execution_count": null,
      "outputs": []
    },
    {
      "cell_type": "code",
      "metadata": {
        "colab": {
          "base_uri": "https://localhost:8080/",
          "height": 115,
          "referenced_widgets": [
            "c3dd5704b8014fa1a95d48276c365eda",
            "ceb3f0a2aae04f48b174b6b87b50781f",
            "ec14cf325b394b7a9c92dadd59406adf",
            "39ebf6444c564b9eb70f3c6f63ccf702",
            "a610dae48a8540e4ba8d3bababbcc62e",
            "9c89b2de2ac3401c921de6f40e6b568b",
            "6dc0e13357004932bd9bc2d9e8b176af",
            "913dcd2d2d9844b6a41aceff440b5bce",
            "6b41a5d090a641529567197cc006fa0b",
            "f944c2d7ad73408c9505e7c9f5440f31",
            "3470d57e0cde4bb68158d9529576229c",
            "035e462a5a0845dc96a3dbc03657e0db",
            "4dd97dc1eb9f4fbe8e27385ce2f2218c",
            "7fb2df9f02f444468eecc47177492fc4",
            "19458da75f1e49a6b93809233ddbbbd5",
            "71b8946a8dd846d9b933f49f01d0145b"
          ]
        },
        "id": "rxnfEB7S7MQ6",
        "outputId": "2177446a-19b2-4347-a9c5-67da4a4e5198"
      },
      "source": [
        "train_set = data.map(speech_file_to_array_fn, remove_columns=data.column_names)\n",
        "test_set = test_data.map(speech_file_to_array_fn, remove_columns=test_data.column_names)"
      ],
      "execution_count": null,
      "outputs": [
        {
          "output_type": "display_data",
          "data": {
            "application/vnd.jupyter.widget-view+json": {
              "model_id": "c3dd5704b8014fa1a95d48276c365eda",
              "version_minor": 0,
              "version_major": 2
            },
            "text/plain": [
              "HBox(children=(FloatProgress(value=0.0, max=1500.0), HTML(value='')))"
            ]
          },
          "metadata": {
            "tags": []
          }
        },
        {
          "output_type": "stream",
          "text": [
            "\n"
          ],
          "name": "stdout"
        },
        {
          "output_type": "display_data",
          "data": {
            "application/vnd.jupyter.widget-view+json": {
              "model_id": "6b41a5d090a641529567197cc006fa0b",
              "version_minor": 0,
              "version_major": 2
            },
            "text/plain": [
              "HBox(children=(FloatProgress(value=0.0, max=169.0), HTML(value='')))"
            ]
          },
          "metadata": {
            "tags": []
          }
        },
        {
          "output_type": "stream",
          "text": [
            "\n"
          ],
          "name": "stdout"
        }
      ]
    },
    {
      "cell_type": "code",
      "metadata": {
        "id": "GupIu4527RTB"
      },
      "source": [
        "import librosa\n",
        "import numpy as np\n",
        "\n",
        "def resample(batch):\n",
        "    batch[\"speech\"] = librosa.resample(np.asarray(batch[\"speech\"]), 16_000, 16_000)\n",
        "    batch[\"sampling_rate\"] = 16_000\n",
        "    return batch"
      ],
      "execution_count": null,
      "outputs": []
    },
    {
      "cell_type": "code",
      "metadata": {
        "colab": {
          "base_uri": "https://localhost:8080/",
          "height": 528,
          "referenced_widgets": [
            "cd99ce10ceee48849002746a2df08a3f",
            "4b921238512f4c189294df5accd5149b",
            "743b57a0855241bf99779f7ad45e9de2",
            "0fa02e288de04a85b529e6e6cabcf9f9",
            "fd4815888e164bd6ba9c4edb1c8d0e2e",
            "b235f20ef3ef4ef5b1e1c618cccaa856",
            "5075b26ef0074c759aadb2ae327e9a83",
            "ee3d4acbc8d44d3db475588a58f13d12",
            "ff1d11604beb434f98808b776f92aafb",
            "691c570b3ec1493ba2fac290a64349f9",
            "3eb19f2980ea49bbb576bbaff1d093e4",
            "e9cbcf16d7514274a759dc19e779f49e",
            "1738a46b1958411c819c0064043419ce",
            "edf31d8b258f46048f25883e03e0a465",
            "18a62e1878a94b0a9d978dc5d19952d6",
            "2b7ee070e7054dd1b04050cf29343185",
            "75172d5313ac4ead9c7c619b6d95bfb9",
            "00bcb798c32041e2a5efc752310ae4c0",
            "51e415b3b5894c6a9927b32649820d83",
            "e56013e273b145a2b379345e006cda85",
            "f0160717b83c40bea7ff6cc2b4c65ee0",
            "a2b23a81e74a4e178c516d53713292ac",
            "72be7b1d89bc45a1af48785f3ec2fe85",
            "333b7264f61941fbba1d3b81aa13d94a",
            "12bda4695e284032b8587e8f2e940693",
            "430d31be2c4c470cafbebc8c8299b4eb",
            "138bbec456764975a7026e9ce89d2870",
            "170f6533389b4b69b2d4ae609dd58653",
            "679c9239b2d94b0b8422fa7730179b7d",
            "b6b02fc76718410887f984cf664f7cb1",
            "2de3611c149241c3b0835bd82e8f7946",
            "cac8c2bec3094de5a728c77120d49def",
            "c4d633c7494d457c97d20f12f254f147",
            "800addc7dc5344e3bf64d23e371b1991",
            "6843fe7bcfe04b40ab17e665746a0209",
            "6404e95277bb4e1ba49dd0b78156bbb0",
            "76590346965b428e85db778828ab26db",
            "2da00b165ddf4307a6846b2720a4988c",
            "fd58495f55254c45a4561ae81be02e3d",
            "612e0cf5b44d4f4da7aac577418c3cff",
            "abb6a2a7c85740558eb15f1f5bce850e",
            "79c15e7f24464063a90cee0c0bc7f5c5",
            "370aa4e7178249e9814b2ebd308a6e4a",
            "f0854ea37a774792895e117b80273d21",
            "d660904c7468421cb21b7a5a1537dcde",
            "d5fd222cbee645309cb6c5142d5ed6af",
            "374b9006836345ec8118edd11792ccfe",
            "57c74860cdad4828b4f92bdcda9ff43e",
            "7f5f41de371c4e9ba465989fd8a46590",
            "1f3bcde4ae6f4be495ef6601d8aa6596",
            "56b7b940bfe24bfcb3aed5c0634b0c97",
            "ef4b4108726b46e9aa34ffa3b6d977f9",
            "d6ab689ce09547ceb89172702bbf98f9",
            "f20925e14b5f47a6a72d2d95a1a50ef2",
            "d8a6838dacea40d4b3bec892a34d3920",
            "5220e0c28d164bf8b24238513cddaa9d",
            "03b622e167bf4fbd81f3582210c5f1c3",
            "850a0e73204e4df2b1d9079208b4988d",
            "8c7970ce6a4d499194b55f8b852205cd",
            "97347906652e405aac2b5f7f21da071d",
            "eef68f4a1daf43bfba211df72496b473",
            "cf233cf61904428dbe86966d1ba85a8f",
            "db84d65aa3be40ceae2f97b0484b9003",
            "71038e3d64bf4f1f87aead8b7350219b"
          ]
        },
        "id": "XTy_rmuO8I1f",
        "outputId": "9b36b8a9-fd40-4e70-d09d-a301c06dd8b6"
      },
      "source": [
        "train_set = train_set.map(resample, num_proc=4)\n",
        "test_set = test_set.map(resample, num_proc=4)"
      ],
      "execution_count": null,
      "outputs": [
        {
          "output_type": "stream",
          "text": [
            " "
          ],
          "name": "stdout"
        },
        {
          "output_type": "display_data",
          "data": {
            "application/vnd.jupyter.widget-view+json": {
              "model_id": "cd99ce10ceee48849002746a2df08a3f",
              "version_minor": 0,
              "version_major": 2
            },
            "text/plain": [
              "HBox(children=(FloatProgress(value=0.0, description='#0', max=375.0, style=ProgressStyle(description_width='in…"
            ]
          },
          "metadata": {
            "tags": []
          }
        },
        {
          "output_type": "stream",
          "text": [
            " "
          ],
          "name": "stdout"
        },
        {
          "output_type": "display_data",
          "data": {
            "application/vnd.jupyter.widget-view+json": {
              "model_id": "ff1d11604beb434f98808b776f92aafb",
              "version_minor": 0,
              "version_major": 2
            },
            "text/plain": [
              "HBox(children=(FloatProgress(value=0.0, description='#1', max=375.0, style=ProgressStyle(description_width='in…"
            ]
          },
          "metadata": {
            "tags": []
          }
        },
        {
          "output_type": "stream",
          "text": [
            " "
          ],
          "name": "stdout"
        },
        {
          "output_type": "display_data",
          "data": {
            "application/vnd.jupyter.widget-view+json": {
              "model_id": "75172d5313ac4ead9c7c619b6d95bfb9",
              "version_minor": 0,
              "version_major": 2
            },
            "text/plain": [
              "HBox(children=(FloatProgress(value=0.0, description='#2', max=375.0, style=ProgressStyle(description_width='in…"
            ]
          },
          "metadata": {
            "tags": []
          }
        },
        {
          "output_type": "stream",
          "text": [
            " "
          ],
          "name": "stdout"
        },
        {
          "output_type": "display_data",
          "data": {
            "application/vnd.jupyter.widget-view+json": {
              "model_id": "12bda4695e284032b8587e8f2e940693",
              "version_minor": 0,
              "version_major": 2
            },
            "text/plain": [
              "HBox(children=(FloatProgress(value=0.0, description='#3', max=375.0, style=ProgressStyle(description_width='in…"
            ]
          },
          "metadata": {
            "tags": []
          }
        },
        {
          "output_type": "stream",
          "text": [
            "\n",
            "\n",
            "\n",
            "\n",
            " "
          ],
          "name": "stdout"
        },
        {
          "output_type": "display_data",
          "data": {
            "application/vnd.jupyter.widget-view+json": {
              "model_id": "c4d633c7494d457c97d20f12f254f147",
              "version_minor": 0,
              "version_major": 2
            },
            "text/plain": [
              "HBox(children=(FloatProgress(value=0.0, description='#0', max=43.0, style=ProgressStyle(description_width='ini…"
            ]
          },
          "metadata": {
            "tags": []
          }
        },
        {
          "output_type": "stream",
          "text": [
            " "
          ],
          "name": "stdout"
        },
        {
          "output_type": "display_data",
          "data": {
            "application/vnd.jupyter.widget-view+json": {
              "model_id": "abb6a2a7c85740558eb15f1f5bce850e",
              "version_minor": 0,
              "version_major": 2
            },
            "text/plain": [
              "HBox(children=(FloatProgress(value=0.0, description='#1', max=42.0, style=ProgressStyle(description_width='ini…"
            ]
          },
          "metadata": {
            "tags": []
          }
        },
        {
          "output_type": "stream",
          "text": [
            "  "
          ],
          "name": "stdout"
        },
        {
          "output_type": "display_data",
          "data": {
            "application/vnd.jupyter.widget-view+json": {
              "model_id": "7f5f41de371c4e9ba465989fd8a46590",
              "version_minor": 0,
              "version_major": 2
            },
            "text/plain": [
              "HBox(children=(FloatProgress(value=0.0, description='#2', max=42.0, style=ProgressStyle(description_width='ini…"
            ]
          },
          "metadata": {
            "tags": []
          }
        },
        {
          "output_type": "display_data",
          "data": {
            "application/vnd.jupyter.widget-view+json": {
              "model_id": "03b622e167bf4fbd81f3582210c5f1c3",
              "version_minor": 0,
              "version_major": 2
            },
            "text/plain": [
              "HBox(children=(FloatProgress(value=0.0, description='#3', max=42.0, style=ProgressStyle(description_width='ini…"
            ]
          },
          "metadata": {
            "tags": []
          }
        },
        {
          "output_type": "stream",
          "text": [
            "\n",
            "\n",
            "\n",
            "\n"
          ],
          "name": "stdout"
        }
      ]
    },
    {
      "cell_type": "code",
      "metadata": {
        "colab": {
          "base_uri": "https://localhost:8080/",
          "height": 75
        },
        "id": "0Mfqx8tm8Rrw",
        "outputId": "732075e5-a0ee-4833-dc99-c79ced7cf01c"
      },
      "source": [
        "import IPython.display as ipd\n",
        "import numpy as np\n",
        "import random\n",
        "\n",
        "rand_int = random.randint(0, len(train_set)-1)\n",
        "\n",
        "ipd.Audio(data=np.asarray(train_set[rand_int][\"speech\"]), autoplay=True, rate=16000)"
      ],
      "execution_count": null,
      "outputs": [
        {
          "output_type": "execute_result",
          "data": {
            "text/html": [
              "\n",
              "                <audio controls=\"controls\" autoplay=\"autoplay\">\n",
              "                    <source src=\"data:audio/wav;base64,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\" type=\"audio/wav\" />\n",
              "                    Your browser does not support the audio element.\n",
              "                </audio>\n",
              "              "
            ],
            "text/plain": [
              "<IPython.lib.display.Audio object>"
            ]
          },
          "metadata": {
            "tags": []
          },
          "execution_count": 30
        }
      ]
    },
    {
      "cell_type": "code",
      "metadata": {
        "colab": {
          "base_uri": "https://localhost:8080/"
        },
        "id": "u69KhvjB8YpE",
        "outputId": "d674e559-fcbc-4e75-fdb2-d6dfc91dfae9"
      },
      "source": [
        "# rand_int = random.randint(0, len(train_set)-1)\n",
        "\n",
        "print(\"Target text:\", train_set[rand_int][\"target_text\"])\n",
        "print(\"Input array shape:\", np.asarray(train_set[rand_int][\"speech\"]).shape)\n",
        "print(\"Sampling rate:\", train_set[rand_int][\"sampling_rate\"])"
      ],
      "execution_count": null,
      "outputs": [
        {
          "output_type": "stream",
          "text": [
            "Target text: رسید بھائی بانٹیں کیجئے گا اپنا خیال رکھیے گا اللہ حافظ\n",
            "Input array shape: (34400,)\n",
            "Sampling rate: 16000\n"
          ],
          "name": "stdout"
        }
      ]
    },
    {
      "cell_type": "code",
      "metadata": {
        "id": "v7fcDUXh8hTE"
      },
      "source": [
        "def prepare_dataset(batch):\n",
        "    # check that all files have the correct sampling rate\n",
        "    assert (\n",
        "        len(set(batch[\"sampling_rate\"])) == 1\n",
        "    ), f\"Make sure all inputs have the same sampling rate of {processor.feature_extractor.sampling_rate}.\"\n",
        "\n",
        "    batch[\"input_values\"] = processor(batch[\"speech\"], sampling_rate=batch[\"sampling_rate\"][0]).input_values\n",
        "    \n",
        "    with processor.as_target_processor():\n",
        "        batch[\"labels\"] = processor(batch[\"target_text\"]).input_ids\n",
        "    return batch"
      ],
      "execution_count": null,
      "outputs": []
    },
    {
      "cell_type": "code",
      "metadata": {
        "colab": {
          "base_uri": "https://localhost:8080/",
          "height": 735,
          "referenced_widgets": [
            "c6b6ffe0259a4d3bad4f2e4709203e92",
            "9e257566c5104ef8abead39246e96ecc",
            "d02778179e7448fe80990c753bd65872",
            "78748184f7b94ef5be60f2ad79a89e9b",
            "3d8fe2e3afdb403a979957564476e1dc",
            "5d17e2d1270f4289be245f11bf48abf0",
            "35baa00c878342318f1dc072befe7892",
            "75ae439405ed4b4986e3cd1e92759dce",
            "6a3fc40e27774a1ba70e05f6c3c0baad",
            "8a40e5ec1c7c488fa9c465b7b3e03efd",
            "58c73aa0c04b40c38c6257964d7d1bc6",
            "76d78701b6bd49178c69cd7d450b4bd3",
            "52507d57ecae4c1380143e7e969716dc",
            "325a977d32314c699e8d36e8c01699d3",
            "3564d4bf97b24a8fa22aedbc2d9132e5",
            "659cfcb1af8640fabdbc8d1ec9c40043",
            "b4a003dcc029428fa73d20b36a8f1b0a",
            "2a930f5ca0814eeb8e08ed8b689397f7",
            "4f81c6093ecf45e1818ba0a226c85b24",
            "6c5c3bc53d0d4d96ac14af55fc6ef03a",
            "1aa3058e7e1940ffaaadbca8c5ebf183",
            "4a781c67214a4c2994feebce3332f1cc",
            "23b22b3e7b1c4e79896a207cf6cd4411",
            "d41428ab64a04d659efa8e0f19c0315c",
            "ad4671a9583847afa751ed8b2583a7b8",
            "4225133efd29484fa3136b3d7f535f07",
            "a34af1d9ec9141f38efcea28f01585bf",
            "ed1d68f5465349888fc6008b93a4deb6",
            "b446a114b0e44fd0abdbd359a8d8f403",
            "3c2ded0e09e84e39a7cc395248675efa",
            "a746527c28a44a3399ecc7b2552ee764",
            "59c64a6b50534cdb9cdb3f160c3183a3",
            "ce52440d05004c3898d53b6ec15b829c",
            "f61395a243754e4888469d0b9dd20358",
            "285f71e8d12b4edb8fe204338b295cf7",
            "d98a9fb981224a47a694920fbea8b00d",
            "2d67b680b7a8497caa305923cf70dab8",
            "c07f69172e9840c7abc099ac18bb58d8",
            "0446611ae62c4234939a17703dd2910d",
            "c7d0f7c3ea3c4ebaa090b8cd67866d9a",
            "6238d9a31fd940b482705cb66d6e479b",
            "7e467a5a337c449693385bea4c40af3f",
            "7865277a5eea49b0b1b3d3b750dea182",
            "c469076960014d7c9c569e4769e1135b",
            "b5a8b72aaf4842fc84a73a8c3eaa2f7f",
            "dddc1fa1e2334bf29b838fa994bd94e7",
            "115d3eda3f06430396eaa4cb19dc173e",
            "5b3b004d2e5344699abd2416fc70a201",
            "05da25d3a43548b58ff529b5728a8667",
            "e0e55031a22e445d8ae21e953e338d7c",
            "29bcf368a2274b358a3109b98884f642",
            "c2ed50d4259b4573a097054a9e2f9412",
            "83902c7325314c80a9d1bd413d2547bb",
            "930532742c9247efa237d964702e4337",
            "5e86d3f1eaae4c4194a4e4933b4c7455",
            "b6a8a85d4a2849648eddbbe26c0e4106",
            "2c793238552a428888389d1a541e5df6",
            "f2b0987c10604da491b6ee9aeb1a5382",
            "9ecba7352c6347f8bf18aaab58238138",
            "334529da11ad459fbbc4199e3e907e89",
            "b6efbffad2b44f7eb0b45788a69b22b2",
            "2893318b6ae149c683e6432d3d748b76",
            "f718d1c3f4f6470da3e2c7eee24f435c",
            "31bff84309c04f0c8fa57082fd26cd3d"
          ]
        },
        "id": "aox_7Pyk87Zk",
        "outputId": "3347dc6f-bfd7-4c68-ff20-964bf8ae79a3"
      },
      "source": [
        "train_set = train_set.map(prepare_dataset, remove_columns=train_set.column_names, batch_size=8, num_proc=4, batched=True)\n",
        "test_set = test_set.map(prepare_dataset, remove_columns=test_set.column_names, batch_size=8, num_proc=4, batched=True)"
      ],
      "execution_count": null,
      "outputs": [
        {
          "output_type": "stream",
          "text": [
            " "
          ],
          "name": "stdout"
        },
        {
          "output_type": "display_data",
          "data": {
            "application/vnd.jupyter.widget-view+json": {
              "model_id": "c6b6ffe0259a4d3bad4f2e4709203e92",
              "version_minor": 0,
              "version_major": 2
            },
            "text/plain": [
              "HBox(children=(FloatProgress(value=0.0, description='#0', max=47.0, style=ProgressStyle(description_width='ini…"
            ]
          },
          "metadata": {
            "tags": []
          }
        },
        {
          "output_type": "stream",
          "text": [
            " "
          ],
          "name": "stdout"
        },
        {
          "output_type": "display_data",
          "data": {
            "application/vnd.jupyter.widget-view+json": {
              "model_id": "6a3fc40e27774a1ba70e05f6c3c0baad",
              "version_minor": 0,
              "version_major": 2
            },
            "text/plain": [
              "HBox(children=(FloatProgress(value=0.0, description='#1', max=47.0, style=ProgressStyle(description_width='ini…"
            ]
          },
          "metadata": {
            "tags": []
          }
        },
        {
          "output_type": "stream",
          "text": [
            " "
          ],
          "name": "stdout"
        },
        {
          "output_type": "display_data",
          "data": {
            "application/vnd.jupyter.widget-view+json": {
              "model_id": "b4a003dcc029428fa73d20b36a8f1b0a",
              "version_minor": 0,
              "version_major": 2
            },
            "text/plain": [
              "HBox(children=(FloatProgress(value=0.0, description='#2', max=47.0, style=ProgressStyle(description_width='ini…"
            ]
          },
          "metadata": {
            "tags": []
          }
        },
        {
          "output_type": "stream",
          "text": [
            " "
          ],
          "name": "stdout"
        },
        {
          "output_type": "display_data",
          "data": {
            "application/vnd.jupyter.widget-view+json": {
              "model_id": "ad4671a9583847afa751ed8b2583a7b8",
              "version_minor": 0,
              "version_major": 2
            },
            "text/plain": [
              "HBox(children=(FloatProgress(value=0.0, description='#3', max=47.0, style=ProgressStyle(description_width='ini…"
            ]
          },
          "metadata": {
            "tags": []
          }
        },
        {
          "output_type": "stream",
          "text": [
            "/usr/local/lib/python3.7/dist-packages/numpy/core/_asarray.py:83: VisibleDeprecationWarning: Creating an ndarray from ragged nested sequences (which is a list-or-tuple of lists-or-tuples-or ndarrays with different lengths or shapes) is deprecated. If you meant to do this, you must specify 'dtype=object' when creating the ndarray\n",
            "  return array(a, dtype, copy=False, order=order)\n",
            "/usr/local/lib/python3.7/dist-packages/numpy/core/_asarray.py:83: VisibleDeprecationWarning: Creating an ndarray from ragged nested sequences (which is a list-or-tuple of lists-or-tuples-or ndarrays with different lengths or shapes) is deprecated. If you meant to do this, you must specify 'dtype=object' when creating the ndarray\n",
            "  return array(a, dtype, copy=False, order=order)\n",
            "/usr/local/lib/python3.7/dist-packages/numpy/core/_asarray.py:83: VisibleDeprecationWarning: Creating an ndarray from ragged nested sequences (which is a list-or-tuple of lists-or-tuples-or ndarrays with different lengths or shapes) is deprecated. If you meant to do this, you must specify 'dtype=object' when creating the ndarray\n",
            "  return array(a, dtype, copy=False, order=order)\n",
            "/usr/local/lib/python3.7/dist-packages/numpy/core/_asarray.py:83: VisibleDeprecationWarning: Creating an ndarray from ragged nested sequences (which is a list-or-tuple of lists-or-tuples-or ndarrays with different lengths or shapes) is deprecated. If you meant to do this, you must specify 'dtype=object' when creating the ndarray\n",
            "  return array(a, dtype, copy=False, order=order)\n"
          ],
          "name": "stderr"
        },
        {
          "output_type": "stream",
          "text": [
            "\n",
            "\n",
            "\n",
            "\n"
          ],
          "name": "stdout"
        },
        {
          "output_type": "stream",
          "text": [
            "/usr/local/lib/python3.7/dist-packages/numpy/core/_asarray.py:83: VisibleDeprecationWarning: Creating an ndarray from ragged nested sequences (which is a list-or-tuple of lists-or-tuples-or ndarrays with different lengths or shapes) is deprecated. If you meant to do this, you must specify 'dtype=object' when creating the ndarray\n",
            "  return array(a, dtype, copy=False, order=order)\n"
          ],
          "name": "stderr"
        },
        {
          "output_type": "stream",
          "text": [
            " "
          ],
          "name": "stdout"
        },
        {
          "output_type": "display_data",
          "data": {
            "application/vnd.jupyter.widget-view+json": {
              "model_id": "ce52440d05004c3898d53b6ec15b829c",
              "version_minor": 0,
              "version_major": 2
            },
            "text/plain": [
              "HBox(children=(FloatProgress(value=0.0, description='#0', max=6.0, style=ProgressStyle(description_width='init…"
            ]
          },
          "metadata": {
            "tags": []
          }
        },
        {
          "output_type": "stream",
          "text": [
            " "
          ],
          "name": "stdout"
        },
        {
          "output_type": "display_data",
          "data": {
            "application/vnd.jupyter.widget-view+json": {
              "model_id": "6238d9a31fd940b482705cb66d6e479b",
              "version_minor": 0,
              "version_major": 2
            },
            "text/plain": [
              "HBox(children=(FloatProgress(value=0.0, description='#1', max=6.0, style=ProgressStyle(description_width='init…"
            ]
          },
          "metadata": {
            "tags": []
          }
        },
        {
          "output_type": "stream",
          "text": [
            " "
          ],
          "name": "stdout"
        },
        {
          "output_type": "display_data",
          "data": {
            "application/vnd.jupyter.widget-view+json": {
              "model_id": "05da25d3a43548b58ff529b5728a8667",
              "version_minor": 0,
              "version_major": 2
            },
            "text/plain": [
              "HBox(children=(FloatProgress(value=0.0, description='#2', max=6.0, style=ProgressStyle(description_width='init…"
            ]
          },
          "metadata": {
            "tags": []
          }
        },
        {
          "output_type": "stream",
          "text": [
            " "
          ],
          "name": "stdout"
        },
        {
          "output_type": "display_data",
          "data": {
            "application/vnd.jupyter.widget-view+json": {
              "model_id": "2c793238552a428888389d1a541e5df6",
              "version_minor": 0,
              "version_major": 2
            },
            "text/plain": [
              "HBox(children=(FloatProgress(value=0.0, description='#3', max=6.0, style=ProgressStyle(description_width='init…"
            ]
          },
          "metadata": {
            "tags": []
          }
        },
        {
          "output_type": "stream",
          "text": [
            "\n",
            "\n",
            "\n",
            "\n"
          ],
          "name": "stdout"
        }
      ]
    },
    {
      "cell_type": "code",
      "metadata": {
        "colab": {
          "base_uri": "https://localhost:8080/"
        },
        "id": "mMNJOxbrPX_X",
        "outputId": "5a1e2bc3-355c-4b52-ec48-e07b1974b016"
      },
      "source": [
        "train_set"
      ],
      "execution_count": null,
      "outputs": [
        {
          "output_type": "execute_result",
          "data": {
            "text/plain": [
              "Dataset({\n",
              "    features: ['input_values', 'labels'],\n",
              "    num_rows: 1500\n",
              "})"
            ]
          },
          "metadata": {
            "tags": []
          },
          "execution_count": 23
        }
      ]
    },
    {
      "cell_type": "code",
      "metadata": {
        "colab": {
          "base_uri": "https://localhost:8080/"
        },
        "id": "UDbzWm8iBNcH",
        "outputId": "c173aa84-3681-46e5-8f87-9ce839d6003d"
      },
      "source": [
        "test_set"
      ],
      "execution_count": null,
      "outputs": [
        {
          "output_type": "execute_result",
          "data": {
            "text/plain": [
              "Dataset({\n",
              "    features: ['input_values', 'labels'],\n",
              "    num_rows: 169\n",
              "})"
            ]
          },
          "metadata": {
            "tags": []
          },
          "execution_count": 24
        }
      ]
    },
    {
      "cell_type": "markdown",
      "metadata": {
        "id": "_uy69imqQ15f"
      },
      "source": [
        "#Training"
      ]
    },
    {
      "cell_type": "code",
      "metadata": {
        "id": "FYStBUYZ9XIz"
      },
      "source": [
        "import torch\n",
        "\n",
        "from dataclasses import dataclass, field\n",
        "from typing import Any, Dict, List, Optional, Union\n",
        "\n",
        "@dataclass\n",
        "class DataCollatorCTCWithPadding:\n",
        "\n",
        "    processor: Wav2Vec2Processor\n",
        "    padding: Union[bool, str] = True\n",
        "    max_length: Optional[int] = None\n",
        "    max_length_labels: Optional[int] = None\n",
        "    pad_to_multiple_of: Optional[int] = None\n",
        "    pad_to_multiple_of_labels: Optional[int] = None\n",
        "\n",
        "    def __call__(self, features: List[Dict[str, Union[List[int], torch.Tensor]]]) -> Dict[str, torch.Tensor]:\n",
        "        # split inputs and labels since they have to be of different lenghts and need\n",
        "        # different padding methods\n",
        "        input_features = [{\"input_values\": feature[\"input_values\"]} for feature in features]\n",
        "        label_features = [{\"input_ids\": feature[\"labels\"]} for feature in features]\n",
        "\n",
        "        batch = self.processor.pad(\n",
        "            input_features,\n",
        "            padding=self.padding,\n",
        "            max_length=self.max_length,\n",
        "            pad_to_multiple_of=self.pad_to_multiple_of,\n",
        "            return_tensors=\"pt\",\n",
        "        )\n",
        "        with self.processor.as_target_processor():\n",
        "            labels_batch = self.processor.pad(\n",
        "                label_features,\n",
        "                padding=self.padding,\n",
        "                max_length=self.max_length_labels,\n",
        "                pad_to_multiple_of=self.pad_to_multiple_of_labels,\n",
        "                return_tensors=\"pt\",\n",
        "            )\n",
        "\n",
        "        # replace padding with -100 to ignore loss correctly\n",
        "        labels = labels_batch[\"input_ids\"].masked_fill(labels_batch.attention_mask.ne(1), -100)\n",
        "\n",
        "        batch[\"labels\"] = labels\n",
        "\n",
        "        return batch"
      ],
      "execution_count": null,
      "outputs": []
    },
    {
      "cell_type": "code",
      "metadata": {
        "id": "Cdu83f1V9fL3"
      },
      "source": [
        "data_collator = DataCollatorCTCWithPadding(processor=processor, padding=True)"
      ],
      "execution_count": null,
      "outputs": []
    },
    {
      "cell_type": "code",
      "metadata": {
        "id": "eo_Qun_s9hvO"
      },
      "source": [
        "wer_metric = load_metric(\"wer\")"
      ],
      "execution_count": null,
      "outputs": []
    },
    {
      "cell_type": "code",
      "metadata": {
        "id": "dYNIHc4v9j6U"
      },
      "source": [
        "def compute_metrics(pred):\n",
        "    pred_logits = pred.predictions\n",
        "    pred_ids = np.argmax(pred_logits, axis=-1)\n",
        "\n",
        "    pred.label_ids[pred.label_ids == -100] = processor.tokenizer.pad_token_id\n",
        "\n",
        "    pred_str = processor.batch_decode(pred_ids)\n",
        "    # we do not want to group tokens when computing the metrics\n",
        "    label_str = processor.batch_decode(pred.label_ids, group_tokens=False)\n",
        "\n",
        "    wer = wer_metric.compute(predictions=pred_str, references=label_str)\n",
        "\n",
        "    return {\"wer\": wer}"
      ],
      "execution_count": null,
      "outputs": []
    },
    {
      "cell_type": "code",
      "metadata": {
        "colab": {
          "base_uri": "https://localhost:8080/"
        },
        "id": "WEbVUUVD-cXx",
        "outputId": "d1e4f3bd-0c1f-439d-b7f5-97fbf562fd8e"
      },
      "source": [
        "from transformers import Wav2Vec2ForCTC\n",
        "\n",
        "model = Wav2Vec2ForCTC.from_pretrained(\n",
        "    \"facebook/wav2vec2-large-xlsr-53\", \n",
        "    attention_dropout=0.1,\n",
        "    hidden_dropout=0.1,\n",
        "    feat_proj_dropout=0.0,\n",
        "    mask_time_prob=0.05,\n",
        "    layerdrop=0.1,\n",
        "    gradient_checkpointing=True, \n",
        "    ctc_loss_reduction=\"mean\", \n",
        "    pad_token_id=processor.tokenizer.pad_token_id,\n",
        "    vocab_size=len(processor.tokenizer)\n",
        ")"
      ],
      "execution_count": null,
      "outputs": [
        {
          "output_type": "stream",
          "text": [
            "Some weights of the model checkpoint at facebook/wav2vec2-large-xlsr-53 were not used when initializing Wav2Vec2ForCTC: ['quantizer.codevectors', 'quantizer.weight_proj.weight', 'quantizer.weight_proj.bias', 'project_q.weight', 'project_q.bias', 'project_hid.weight', 'project_hid.bias']\n",
            "- This IS expected if you are initializing Wav2Vec2ForCTC from the checkpoint of a model trained on another task or with another architecture (e.g. initializing a BertForSequenceClassification model from a BertForPreTraining model).\n",
            "- This IS NOT expected if you are initializing Wav2Vec2ForCTC from the checkpoint of a model that you expect to be exactly identical (initializing a BertForSequenceClassification model from a BertForSequenceClassification model).\n",
            "Some weights of Wav2Vec2ForCTC were not initialized from the model checkpoint at facebook/wav2vec2-large-xlsr-53 and are newly initialized: ['lm_head.weight', 'lm_head.bias']\n",
            "You should probably TRAIN this model on a down-stream task to be able to use it for predictions and inference.\n"
          ],
          "name": "stderr"
        }
      ]
    },
    {
      "cell_type": "code",
      "metadata": {
        "id": "3LZehdgd-erU"
      },
      "source": [
        "model.freeze_feature_extractor()"
      ],
      "execution_count": null,
      "outputs": []
    },
    {
      "cell_type": "code",
      "metadata": {
        "id": "J_Sgyi22-r76"
      },
      "source": [
        "from transformers import TrainingArguments\n",
        "\n",
        "training_args = TrainingArguments(\n",
        "  output_dir=\"/content/gdrive/MyDrive/wav2vec2-urdu\",\n",
        "  # output_dir=\"./wav2vec2-large-xlsr-turkish-demo\",\n",
        "  group_by_length=True,\n",
        "  per_device_train_batch_size=16,\n",
        "  gradient_accumulation_steps=2,\n",
        "  evaluation_strategy=\"steps\",\n",
        "  num_train_epochs=30,\n",
        "  fp16=True,\n",
        "  save_steps=400,\n",
        "  eval_steps=400,\n",
        "  logging_steps=400,\n",
        "  learning_rate=3e-4,\n",
        "  warmup_steps=500,\n",
        "  save_total_limit=2,\n",
        ")"
      ],
      "execution_count": null,
      "outputs": []
    },
    {
      "cell_type": "code",
      "metadata": {
        "colab": {
          "base_uri": "https://localhost:8080/"
        },
        "id": "c4anbsiCEoDm",
        "outputId": "11a4fa04-2648-4081-8f29-8d86e1de304c"
      },
      "source": [
        "data = train_set.train_test_split(test_size=0.2)\n",
        "data['train']\n",
        "data['test']"
      ],
      "execution_count": null,
      "outputs": [
        {
          "output_type": "execute_result",
          "data": {
            "text/plain": [
              "Dataset({\n",
              "    features: ['input_values', 'labels'],\n",
              "    num_rows: 300\n",
              "})"
            ]
          },
          "metadata": {
            "tags": []
          },
          "execution_count": 32
        }
      ]
    },
    {
      "cell_type": "code",
      "metadata": {
        "id": "Djl1w5BM_IXy"
      },
      "source": [
        "from transformers import Trainer\n",
        "\n",
        "trainer = Trainer(\n",
        "    model=model,\n",
        "    data_collator=data_collator,\n",
        "    args=training_args,\n",
        "    compute_metrics=compute_metrics,\n",
        "    train_dataset=data['train'],\n",
        "    eval_dataset=data['test'],\n",
        "    tokenizer=processor.feature_extractor,\n",
        ")"
      ],
      "execution_count": null,
      "outputs": []
    },
    {
      "cell_type": "code",
      "metadata": {
        "colab": {
          "base_uri": "https://localhost:8080/",
          "height": 361
        },
        "id": "_RdZ1jwsDlto",
        "outputId": "586e638a-a9f9-4ac5-ca03-074df2b2e190"
      },
      "source": [
        "trainer.train()"
      ],
      "execution_count": null,
      "outputs": [
        {
          "output_type": "stream",
          "text": [
            "/usr/local/lib/python3.7/dist-packages/torch/_tensor.py:575: UserWarning: floor_divide is deprecated, and will be removed in a future version of pytorch. It currently rounds toward 0 (like the 'trunc' function NOT 'floor'). This results in incorrect rounding for negative values.\n",
            "To keep the current behavior, use torch.div(a, b, rounding_mode='trunc'), or for actual floor division, use torch.div(a, b, rounding_mode='floor'). (Triggered internally at  /pytorch/aten/src/ATen/native/BinaryOps.cpp:467.)\n",
            "  return torch.floor_divide(self, other)\n",
            "/usr/local/lib/python3.7/dist-packages/transformers/trainer.py:1083: FutureWarning: Non-finite norm encountered in torch.nn.utils.clip_grad_norm_; continuing anyway. Note that the default behavior will change in a future release to error out if a non-finite total norm is encountered. At that point, setting error_if_nonfinite=false will be required to retain the old behavior.\n",
            "  self.args.max_grad_norm,\n",
            "/usr/local/lib/python3.7/dist-packages/torch/optim/lr_scheduler.py:134: UserWarning: Detected call of `lr_scheduler.step()` before `optimizer.step()`. In PyTorch 1.1.0 and later, you should call them in the opposite order: `optimizer.step()` before `lr_scheduler.step()`.  Failure to do this will result in PyTorch skipping the first value of the learning rate schedule. See more details at https://pytorch.org/docs/stable/optim.html#how-to-adjust-learning-rate\n",
            "  \"https://pytorch.org/docs/stable/optim.html#how-to-adjust-learning-rate\", UserWarning)\n"
          ],
          "name": "stderr"
        },
        {
          "output_type": "display_data",
          "data": {
            "text/html": [
              "\n",
              "    <div>\n",
              "        <style>\n",
              "            /* Turns off some styling */\n",
              "            progress {\n",
              "                /* gets rid of default border in Firefox and Opera. */\n",
              "                border: none;\n",
              "                /* Needs to be in here for Safari polyfill so background images work as expected. */\n",
              "                background-size: auto;\n",
              "            }\n",
              "        </style>\n",
              "      \n",
              "      <progress value='1110' max='1110' style='width:300px; height:20px; vertical-align: middle;'></progress>\n",
              "      [1110/1110 38:00, Epoch 29/30]\n",
              "    </div>\n",
              "    <table border=\"1\" class=\"dataframe\">\n",
              "  <thead>\n",
              "    <tr style=\"text-align: left;\">\n",
              "      <th>Step</th>\n",
              "      <th>Training Loss</th>\n",
              "      <th>Validation Loss</th>\n",
              "      <th>Wer</th>\n",
              "      <th>Runtime</th>\n",
              "      <th>Samples Per Second</th>\n",
              "    </tr>\n",
              "  </thead>\n",
              "  <tbody>\n",
              "    <tr>\n",
              "      <td>400</td>\n",
              "      <td>nan</td>\n",
              "      <td>nan</td>\n",
              "      <td>0.949324</td>\n",
              "      <td>16.007200</td>\n",
              "      <td>18.742000</td>\n",
              "    </tr>\n",
              "    <tr>\n",
              "      <td>800</td>\n",
              "      <td>nan</td>\n",
              "      <td>nan</td>\n",
              "      <td>0.949324</td>\n",
              "      <td>16.495400</td>\n",
              "      <td>18.187000</td>\n",
              "    </tr>\n",
              "  </tbody>\n",
              "</table><p>"
            ],
            "text/plain": [
              "<IPython.core.display.HTML object>"
            ]
          },
          "metadata": {
            "tags": []
          }
        },
        {
          "output_type": "stream",
          "text": [
            "/usr/local/lib/python3.7/dist-packages/transformers/trainer.py:1083: FutureWarning: Non-finite norm encountered in torch.nn.utils.clip_grad_norm_; continuing anyway. Note that the default behavior will change in a future release to error out if a non-finite total norm is encountered. At that point, setting error_if_nonfinite=false will be required to retain the old behavior.\n",
            "  self.args.max_grad_norm,\n",
            "/usr/local/lib/python3.7/dist-packages/transformers/trainer.py:1083: FutureWarning: Non-finite norm encountered in torch.nn.utils.clip_grad_norm_; continuing anyway. Note that the default behavior will change in a future release to error out if a non-finite total norm is encountered. At that point, setting error_if_nonfinite=false will be required to retain the old behavior.\n",
            "  self.args.max_grad_norm,\n"
          ],
          "name": "stderr"
        },
        {
          "output_type": "execute_result",
          "data": {
            "text/plain": [
              "TrainOutput(global_step=1110, training_loss=nan, metrics={'train_runtime': 2282.1333, 'train_samples_per_second': 0.486, 'total_flos': 2.343129122360832e+18, 'epoch': 29.99, 'init_mem_cpu_alloc_delta': 1680614, 'init_mem_gpu_alloc_delta': 1261935616, 'init_mem_cpu_peaked_delta': 18306, 'init_mem_gpu_peaked_delta': 0, 'train_mem_cpu_alloc_delta': 1421040, 'train_mem_gpu_alloc_delta': 3785500672, 'train_mem_cpu_peaked_delta': 35746617, 'train_mem_gpu_peaked_delta': 921328128})"
            ]
          },
          "metadata": {
            "tags": []
          },
          "execution_count": 34
        }
      ]
    },
    {
      "cell_type": "code",
      "metadata": {
        "id": "SAgeq1bwERTC"
      },
      "source": [
        "model = Wav2Vec2ForCTC.from_pretrained(\"/content/gdrive/MyDrive/wav2vec2-urdu/checkpoint-800\").to(\"cuda\")\n",
        "processor = Wav2Vec2Processor.from_pretrained(\"/content/gdrive/MyDrive/wav2vec2-urdu/checkpoint-800\")"
      ],
      "execution_count": null,
      "outputs": []
    },
    {
      "cell_type": "code",
      "metadata": {
        "colab": {
          "base_uri": "https://localhost:8080/"
        },
        "id": "cdGSpWUtr9fD",
        "outputId": "acbd6f59-dda3-4320-f618-b7a838f86465"
      },
      "source": [
        "input_dict = processor(test_set[0][\"input_values\"], return_tensors=\"pt\", padding=True)\n",
        "logits = model(input_dict.input_values.to(\"cuda\")).logits\n",
        "pred_ids = torch.argmax(logits, dim=-1)[0]"
      ],
      "execution_count": null,
      "outputs": [
        {
          "output_type": "stream",
          "text": [
            "It is strongly recommended to pass the ``sampling_rate`` argument to this function.Failing to do so can result in silent errors that might be hard to debug.\n"
          ],
          "name": "stderr"
        }
      ]
    },
    {
      "cell_type": "code",
      "metadata": {
        "id": "t7UNZFVqLUcD"
      },
      "source": [
        "print(\"Prediction:\")\n",
        "print(processor.decode(pred_ids))\n",
        "\n",
        "print(\"\\nReference:\")\n",
        "print(test_set[\"labels\"])"
      ],
      "execution_count": null,
      "outputs": []
    },
    {
      "cell_type": "code",
      "metadata": {
        "id": "cbGo7ntkLWo6"
      },
      "source": [
        ""
      ],
      "execution_count": null,
      "outputs": []
    }
  ]
}